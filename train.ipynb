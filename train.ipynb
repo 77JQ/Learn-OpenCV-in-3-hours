{
  "nbformat": 4,
  "nbformat_minor": 0,
  "metadata": {
    "colab": {
      "provenance": [],
      "mount_file_id": "1bhne0b07RbnMB4pJs99kZvQBvAjJJXNO",
      "authorship_tag": "ABX9TyM+DHCc7xUlYALgrx0p1L8g",
      "include_colab_link": true
    },
    "kernelspec": {
      "name": "python3",
      "display_name": "Python 3"
    },
    "language_info": {
      "name": "python"
    },
    "accelerator": "GPU",
    "gpuClass": "standard"
  },
  "cells": [
    {
      "cell_type": "markdown",
      "metadata": {
        "id": "view-in-github",
        "colab_type": "text"
      },
      "source": [
        "<a href=\"https://colab.research.google.com/github/77JQ/Learn-OpenCV-in-3-hours/blob/master/train.ipynb\" target=\"_parent\"><img src=\"https://colab.research.google.com/assets/colab-badge.svg\" alt=\"Open In Colab\"/></a>"
      ]
    },
    {
      "cell_type": "code",
      "source": [
        "import os"
      ],
      "metadata": {
        "id": "4mkpvhazgsXu"
      },
      "execution_count": null,
      "outputs": []
    },
    {
      "cell_type": "code",
      "source": [
        "os.getcwd()"
      ],
      "metadata": {
        "colab": {
          "base_uri": "https://localhost:8080/",
          "height": 35
        },
        "id": "QCbrbezjgvPI",
        "outputId": "fadc9004-2eca-4806-8048-5b6452a5ec0e"
      },
      "execution_count": null,
      "outputs": [
        {
          "output_type": "execute_result",
          "data": {
            "text/plain": [
              "'/content'"
            ],
            "application/vnd.google.colaboratory.intrinsic+json": {
              "type": "string"
            }
          },
          "metadata": {},
          "execution_count": 3
        }
      ]
    },
    {
      "cell_type": "code",
      "source": [
        "os.chdir('drive/MyDrive/cifar10/ResNet18_Cifar10_95.46-main')"
      ],
      "metadata": {
        "id": "3wnLqGa6g0Ob"
      },
      "execution_count": null,
      "outputs": []
    },
    {
      "cell_type": "code",
      "execution_count": null,
      "metadata": {
        "id": "7d2hDOwIf8OY"
      },
      "outputs": [],
      "source": [
        "import torch\n",
        "import numpy as np\n",
        "from tqdm import tqdm\n",
        "import torch.nn as nn\n",
        "import torch.optim as optim\n",
        "from utils.readData import read_dataset\n",
        "from utils.ResNet import ResNet18"
      ]
    },
    {
      "cell_type": "code",
      "source": [
        "# set device\n",
        "device = 'cuda' if torch.cuda.is_available() else 'cpu'\n",
        "# 读数据\n",
        "batch_size = 128\n",
        "train_loader,valid_loader,test_loader = read_dataset(batch_size=batch_size,pic_path='dataset')"
      ],
      "metadata": {
        "id": "uhZ_f5EYgBsI"
      },
      "execution_count": null,
      "outputs": []
    },
    {
      "cell_type": "code",
      "source": [
        "print(device)"
      ],
      "metadata": {
        "colab": {
          "base_uri": "https://localhost:8080/"
        },
        "id": "ZfeThGNYiM8s",
        "outputId": "f71126ed-5051-439e-cbbe-04cb3a47f449"
      },
      "execution_count": null,
      "outputs": [
        {
          "output_type": "stream",
          "name": "stdout",
          "text": [
            "cuda\n"
          ]
        }
      ]
    },
    {
      "cell_type": "code",
      "source": [
        "# 加载模型(使用预处理模型，修改最后一层，固定之前的权重)\n",
        "n_class = 10\n",
        "model = ResNet18()\n",
        "\"\"\"\n",
        "ResNet18网络的7x7降采样卷积和池化操作容易丢失一部分信息,\n",
        "所以在实验中我们将7x7的降采样层和最大池化层去掉,替换为一个3x3的降采样卷积,\n",
        "同时减小该卷积层的步长和填充大小\n",
        "\"\"\"\n",
        "model.conv1 = nn.Conv2d(in_channels=3, out_channels=64, kernel_size=3, stride=1, padding=1, bias=False)\n",
        "model.fc = torch.nn.Linear(512, n_class) # 将最后的全连接层改掉\n",
        "model = model.to(device)\n",
        "# 使用交叉熵损失函数\n",
        "criterion = nn.CrossEntropyLoss().to(device)"
      ],
      "metadata": {
        "id": "8i87UnSAgCdj"
      },
      "execution_count": null,
      "outputs": []
    },
    {
      "cell_type": "code",
      "source": [
        "# 开始训练\n",
        "n_epochs = 200\n",
        "valid_loss_min = np.Inf # track change in validation loss\n",
        "accuracy = []\n",
        "lr = 0.1\n",
        "counter = 0\n",
        "for epoch in tqdm(range(1, n_epochs+1)):\n",
        "\n",
        "    # keep track of training and validation loss\n",
        "    train_loss = 0.0\n",
        "    valid_loss = 0.0\n",
        "    total_sample = 0\n",
        "    right_sample = 0\n",
        "    \n",
        "    # 动态调整学习率\n",
        "    if counter/10 ==1:\n",
        "        counter = 0\n",
        "        lr = lr*0.5\n",
        "    optimizer = optim.SGD(model.parameters(), lr=lr, momentum=0.9, weight_decay=5e-4)\n",
        "    ###################\n",
        "    # 训练集的模型 #\n",
        "    ###################\n",
        "    model.train() #作用是启用batch normalization和drop out\n",
        "    for data, target in train_loader:\n",
        "        data = data.to(device)\n",
        "        target = target.to(device)\n",
        "        # clear the gradients of all optimized variables（清除梯度）\n",
        "        optimizer.zero_grad()\n",
        "        # forward pass: compute predicted outputs by passing inputs to the model\n",
        "        # (正向传递：通过向模型传递输入来计算预测输出)\n",
        "        output = model(data).to(device)  #（等价于output = model.forward(data).to(device) ）\n",
        "        # calculate the batch loss（计算损失值）\n",
        "        loss = criterion(output, target)\n",
        "        # backward pass: compute gradient of the loss with respect to model parameters\n",
        "        # （反向传递：计算损失相对于模型参数的梯度）\n",
        "        loss.backward()\n",
        "        # perform a single optimization step (parameter update)\n",
        "        # 执行单个优化步骤（参数更新）\n",
        "        optimizer.step()\n",
        "        # update training loss（更新损失）\n",
        "        train_loss += loss.item()*data.size(0)\n",
        "        \n",
        "    ######################    \n",
        "    # 验证集的模型#\n",
        "    ######################\n",
        "\n",
        "    model.eval()  # 验证模型\n",
        "    for data, target in valid_loader:\n",
        "        data = data.to(device)\n",
        "        target = target.to(device)\n",
        "        # forward pass: compute predicted outputs by passing inputs to the model\n",
        "        output = model(data).to(device)\n",
        "        # calculate the batch loss\n",
        "        loss = criterion(output, target)\n",
        "        # update average validation loss \n",
        "        valid_loss += loss.item()*data.size(0)\n",
        "        # convert output probabilities to predicted class(将输出概率转换为预测类)\n",
        "        _, pred = torch.max(output, 1)    \n",
        "        # compare predictions to true label(将预测与真实标签进行比较)\n",
        "        correct_tensor = pred.eq(target.data.view_as(pred))\n",
        "        # correct = np.squeeze(correct_tensor.to(device).numpy())\n",
        "        total_sample += batch_size\n",
        "        for i in correct_tensor:\n",
        "            if i:\n",
        "                right_sample += 1\n",
        "    print(\"Accuracy:\",100*right_sample/total_sample,\"%\")\n",
        "    accuracy.append(right_sample/total_sample)\n",
        " \n",
        "    # 计算平均损失\n",
        "    train_loss = train_loss/len(train_loader.sampler)\n",
        "    valid_loss = valid_loss/len(valid_loader.sampler)\n",
        "        \n",
        "    # 显示训练集与验证集的损失函数 \n",
        "    print('Epoch: {} \\tTraining Loss: {:.6f} \\tValidation Loss: {:.6f}'.format(\n",
        "        epoch, train_loss, valid_loss))\n",
        "    \n",
        "    # 如果验证集损失函数减少，就保存模型。\n",
        "    if valid_loss <= valid_loss_min:\n",
        "        print('Validation loss decreased ({:.6f} --> {:.6f}).  Saving model ...'.format(valid_loss_min,valid_loss))\n",
        "        torch.save(model.state_dict(), 'checkpoint/resnet18_cifar10.pt')\n",
        "        valid_loss_min = valid_loss\n",
        "        counter = 0\n",
        "    else:\n",
        "        counter += 1"
      ],
      "metadata": {
        "colab": {
          "base_uri": "https://localhost:8080/"
        },
        "id": "m50pp3JWgDNs",
        "outputId": "6f28b06e-0f0e-433c-d69b-4065d4172944"
      },
      "execution_count": null,
      "outputs": [
        {
          "metadata": {
            "tags": null
          },
          "name": "stderr",
          "output_type": "stream",
          "text": [
            "\r  0%|          | 0/200 [00:00<?, ?it/s]"
          ]
        },
        {
          "metadata": {
            "tags": null
          },
          "name": "stdout",
          "output_type": "stream",
          "text": [
            "Accuracy: 27.432753164556964 %\n",
            "Epoch: 1 \tTraining Loss: 2.234580 \tValidation Loss: 1.934113\n",
            "Validation loss decreased (inf --> 1.934113).  Saving model ...\n"
          ]
        },
        {
          "metadata": {
            "tags": null
          },
          "name": "stderr",
          "output_type": "stream",
          "text": [
            "  1%|          | 2/200 [02:14<3:39:24, 66.49s/it]"
          ]
        },
        {
          "metadata": {
            "tags": null
          },
          "name": "stdout",
          "output_type": "stream",
          "text": [
            "Accuracy: 39.90308544303797 %\n",
            "Epoch: 2 \tTraining Loss: 1.743322 \tValidation Loss: 1.630929\n",
            "Validation loss decreased (1.934113 --> 1.630929).  Saving model ...\n"
          ]
        },
        {
          "metadata": {
            "tags": null
          },
          "name": "stderr",
          "output_type": "stream",
          "text": [
            "\r  2%|▏         | 3/200 [03:17<3:32:28, 64.71s/it]"
          ]
        },
        {
          "metadata": {
            "tags": null
          },
          "name": "stdout",
          "output_type": "stream",
          "text": [
            "Accuracy: 45.15427215189873 %\n",
            "Epoch: 3 \tTraining Loss: 1.563738 \tValidation Loss: 1.492750\n",
            "Validation loss decreased (1.630929 --> 1.492750).  Saving model ...\n"
          ]
        },
        {
          "metadata": {
            "tags": null
          },
          "name": "stderr",
          "output_type": "stream",
          "text": [
            "\r  2%|▏         | 4/200 [04:19<3:27:26, 63.50s/it]"
          ]
        },
        {
          "metadata": {
            "tags": null
          },
          "name": "stdout",
          "output_type": "stream",
          "text": [
            "Accuracy: 48.605617088607595 %\n",
            "Epoch: 4 \tTraining Loss: 1.396813 \tValidation Loss: 1.551936\n"
          ]
        },
        {
          "metadata": {
            "tags": null
          },
          "name": "stderr",
          "output_type": "stream",
          "text": [
            "\r  2%|▎         | 5/200 [05:20<3:24:07, 62.81s/it]"
          ]
        },
        {
          "metadata": {
            "tags": null
          },
          "name": "stdout",
          "output_type": "stream",
          "text": [
            "Accuracy: 59.03876582278481 %\n",
            "Epoch: 5 \tTraining Loss: 1.257038 \tValidation Loss: 1.106603\n",
            "Validation loss decreased (1.492750 --> 1.106603).  Saving model ...\n"
          ]
        },
        {
          "metadata": {
            "tags": null
          },
          "name": "stderr",
          "output_type": "stream",
          "text": [
            "\r  3%|▎         | 6/200 [06:22<3:21:37, 62.36s/it]"
          ]
        },
        {
          "metadata": {
            "tags": null
          },
          "name": "stdout",
          "output_type": "stream",
          "text": [
            "Accuracy: 58.33662974683544 %\n",
            "Epoch: 6 \tTraining Loss: 1.124730 \tValidation Loss: 1.226959\n"
          ]
        },
        {
          "metadata": {
            "tags": null
          },
          "name": "stderr",
          "output_type": "stream",
          "text": [
            "\r  4%|▎         | 7/200 [07:23<3:19:30, 62.02s/it]"
          ]
        },
        {
          "metadata": {
            "tags": null
          },
          "name": "stdout",
          "output_type": "stream",
          "text": [
            "Accuracy: 70.4113924050633 %\n",
            "Epoch: 7 \tTraining Loss: 1.036871 \tValidation Loss: 0.796155\n",
            "Validation loss decreased (1.106603 --> 0.796155).  Saving model ...\n"
          ]
        },
        {
          "metadata": {
            "tags": null
          },
          "name": "stderr",
          "output_type": "stream",
          "text": [
            "\r  4%|▍         | 8/200 [08:24<3:17:21, 61.68s/it]"
          ]
        },
        {
          "metadata": {
            "tags": null
          },
          "name": "stdout",
          "output_type": "stream",
          "text": [
            "Accuracy: 66.51503164556962 %\n",
            "Epoch: 8 \tTraining Loss: 0.960469 \tValidation Loss: 0.932709\n"
          ]
        },
        {
          "metadata": {
            "tags": null
          },
          "name": "stderr",
          "output_type": "stream",
          "text": [
            "\r  4%|▍         | 9/200 [09:25<3:15:36, 61.45s/it]"
          ]
        },
        {
          "metadata": {
            "tags": null
          },
          "name": "stdout",
          "output_type": "stream",
          "text": [
            "Accuracy: 68.48299050632912 %\n",
            "Epoch: 9 \tTraining Loss: 0.903052 \tValidation Loss: 0.910401\n"
          ]
        },
        {
          "metadata": {
            "tags": null
          },
          "name": "stderr",
          "output_type": "stream",
          "text": [
            "\r  5%|▌         | 10/200 [10:25<3:13:20, 61.06s/it]"
          ]
        },
        {
          "metadata": {
            "tags": null
          },
          "name": "stdout",
          "output_type": "stream",
          "text": [
            "Accuracy: 71.13330696202532 %\n",
            "Epoch: 10 \tTraining Loss: 0.830716 \tValidation Loss: 0.828126\n"
          ]
        },
        {
          "metadata": {
            "tags": null
          },
          "name": "stderr",
          "output_type": "stream",
          "text": [
            "\r  6%|▌         | 11/200 [11:26<3:11:51, 60.91s/it]"
          ]
        },
        {
          "metadata": {
            "tags": null
          },
          "name": "stdout",
          "output_type": "stream",
          "text": [
            "Accuracy: 72.5573575949367 %\n",
            "Epoch: 11 \tTraining Loss: 0.791085 \tValidation Loss: 0.810981\n"
          ]
        },
        {
          "metadata": {
            "tags": null
          },
          "name": "stderr",
          "output_type": "stream",
          "text": [
            "\r  6%|▌         | 12/200 [12:27<3:10:50, 60.91s/it]"
          ]
        },
        {
          "metadata": {
            "tags": null
          },
          "name": "stdout",
          "output_type": "stream",
          "text": [
            "Accuracy: 74.26819620253164 %\n",
            "Epoch: 12 \tTraining Loss: 0.750560 \tValidation Loss: 0.733462\n",
            "Validation loss decreased (0.796155 --> 0.733462).  Saving model ...\n"
          ]
        },
        {
          "metadata": {
            "tags": null
          },
          "name": "stderr",
          "output_type": "stream",
          "text": [
            "\r  6%|▋         | 13/200 [13:28<3:09:52, 60.92s/it]"
          ]
        },
        {
          "metadata": {
            "tags": null
          },
          "name": "stdout",
          "output_type": "stream",
          "text": [
            "Accuracy: 76.28560126582279 %\n",
            "Epoch: 13 \tTraining Loss: 0.731457 \tValidation Loss: 0.683017\n",
            "Validation loss decreased (0.733462 --> 0.683017).  Saving model ...\n"
          ]
        },
        {
          "metadata": {
            "tags": null
          },
          "name": "stderr",
          "output_type": "stream",
          "text": [
            "\r  7%|▋         | 14/200 [14:28<3:08:05, 60.67s/it]"
          ]
        },
        {
          "metadata": {
            "tags": null
          },
          "name": "stdout",
          "output_type": "stream",
          "text": [
            "Accuracy: 75.04944620253164 %\n",
            "Epoch: 14 \tTraining Loss: 0.707269 \tValidation Loss: 0.739348\n"
          ]
        },
        {
          "metadata": {
            "tags": null
          },
          "name": "stderr",
          "output_type": "stream",
          "text": [
            "\r  8%|▊         | 15/200 [15:28<3:07:06, 60.68s/it]"
          ]
        },
        {
          "metadata": {
            "tags": null
          },
          "name": "stdout",
          "output_type": "stream",
          "text": [
            "Accuracy: 77.04707278481013 %\n",
            "Epoch: 15 \tTraining Loss: 0.692715 \tValidation Loss: 0.699363\n"
          ]
        },
        {
          "metadata": {
            "tags": null
          },
          "name": "stderr",
          "output_type": "stream",
          "text": [
            "\r  8%|▊         | 16/200 [16:28<3:05:30, 60.49s/it]"
          ]
        },
        {
          "metadata": {
            "tags": null
          },
          "name": "stdout",
          "output_type": "stream",
          "text": [
            "Accuracy: 71.99367088607595 %\n",
            "Epoch: 16 \tTraining Loss: 0.665608 \tValidation Loss: 0.854027\n"
          ]
        },
        {
          "metadata": {
            "tags": null
          },
          "name": "stderr",
          "output_type": "stream",
          "text": [
            "\r  8%|▊         | 17/200 [17:28<3:03:50, 60.28s/it]"
          ]
        },
        {
          "metadata": {
            "tags": null
          },
          "name": "stdout",
          "output_type": "stream",
          "text": [
            "Accuracy: 79.34137658227849 %\n",
            "Epoch: 17 \tTraining Loss: 0.649493 \tValidation Loss: 0.582184\n",
            "Validation loss decreased (0.683017 --> 0.582184).  Saving model ...\n"
          ]
        },
        {
          "metadata": {
            "tags": null
          },
          "name": "stderr",
          "output_type": "stream",
          "text": [
            "\r  9%|▉         | 18/200 [18:29<3:03:11, 60.40s/it]"
          ]
        },
        {
          "metadata": {
            "tags": null
          },
          "name": "stdout",
          "output_type": "stream",
          "text": [
            "Accuracy: 73.31882911392405 %\n",
            "Epoch: 18 \tTraining Loss: 0.645305 \tValidation Loss: 0.819617\n"
          ]
        },
        {
          "metadata": {
            "tags": null
          },
          "name": "stderr",
          "output_type": "stream",
          "text": [
            "\r 10%|▉         | 19/200 [19:29<3:01:52, 60.29s/it]"
          ]
        },
        {
          "metadata": {
            "tags": null
          },
          "name": "stdout",
          "output_type": "stream",
          "text": [
            "Accuracy: 76.2559335443038 %\n",
            "Epoch: 19 \tTraining Loss: 0.626559 \tValidation Loss: 0.697952\n"
          ]
        },
        {
          "metadata": {
            "tags": null
          },
          "name": "stderr",
          "output_type": "stream",
          "text": [
            "\r 10%|█         | 20/200 [20:29<3:00:45, 60.25s/it]"
          ]
        },
        {
          "metadata": {
            "tags": null
          },
          "name": "stdout",
          "output_type": "stream",
          "text": [
            "Accuracy: 76.55261075949367 %\n",
            "Epoch: 20 \tTraining Loss: 0.612282 \tValidation Loss: 0.684724\n"
          ]
        },
        {
          "metadata": {
            "tags": null
          },
          "name": "stderr",
          "output_type": "stream",
          "text": [
            "\r 10%|█         | 21/200 [21:29<2:59:41, 60.23s/it]"
          ]
        },
        {
          "metadata": {
            "tags": null
          },
          "name": "stdout",
          "output_type": "stream",
          "text": [
            "Accuracy: 81.26977848101266 %\n",
            "Epoch: 21 \tTraining Loss: 0.608580 \tValidation Loss: 0.521695\n",
            "Validation loss decreased (0.582184 --> 0.521695).  Saving model ...\n"
          ]
        },
        {
          "metadata": {
            "tags": null
          },
          "name": "stderr",
          "output_type": "stream",
          "text": [
            "\r 11%|█         | 22/200 [22:30<2:58:58, 60.33s/it]"
          ]
        },
        {
          "metadata": {
            "tags": null
          },
          "name": "stdout",
          "output_type": "stream",
          "text": [
            "Accuracy: 79.39082278481013 %\n",
            "Epoch: 22 \tTraining Loss: 0.598635 \tValidation Loss: 0.582937\n"
          ]
        },
        {
          "metadata": {
            "tags": null
          },
          "name": "stderr",
          "output_type": "stream",
          "text": [
            "\r 12%|█▏        | 23/200 [23:30<2:57:53, 60.30s/it]"
          ]
        },
        {
          "metadata": {
            "tags": null
          },
          "name": "stdout",
          "output_type": "stream",
          "text": [
            "Accuracy: 77.45253164556962 %\n",
            "Epoch: 23 \tTraining Loss: 0.593878 \tValidation Loss: 0.626365\n"
          ]
        },
        {
          "metadata": {
            "tags": null
          },
          "name": "stderr",
          "output_type": "stream",
          "text": [
            "\r 12%|█▏        | 24/200 [24:31<2:57:07, 60.38s/it]"
          ]
        },
        {
          "metadata": {
            "tags": null
          },
          "name": "stdout",
          "output_type": "stream",
          "text": [
            "Accuracy: 80.64675632911393 %\n",
            "Epoch: 24 \tTraining Loss: 0.580655 \tValidation Loss: 0.562800\n"
          ]
        },
        {
          "metadata": {
            "tags": null
          },
          "name": "stderr",
          "output_type": "stream",
          "text": [
            "\r 12%|█▎        | 25/200 [25:31<2:55:59, 60.34s/it]"
          ]
        },
        {
          "metadata": {
            "tags": null
          },
          "name": "stdout",
          "output_type": "stream",
          "text": [
            "Accuracy: 77.56131329113924 %\n",
            "Epoch: 25 \tTraining Loss: 0.583195 \tValidation Loss: 0.634912\n"
          ]
        },
        {
          "metadata": {
            "tags": null
          },
          "name": "stderr",
          "output_type": "stream",
          "text": [
            "\r 13%|█▎        | 26/200 [26:31<2:55:03, 60.36s/it]"
          ]
        },
        {
          "metadata": {
            "tags": null
          },
          "name": "stdout",
          "output_type": "stream",
          "text": [
            "Accuracy: 80.20174050632912 %\n",
            "Epoch: 26 \tTraining Loss: 0.573841 \tValidation Loss: 0.560155\n"
          ]
        },
        {
          "metadata": {
            "tags": null
          },
          "name": "stderr",
          "output_type": "stream",
          "text": [
            "\r 14%|█▎        | 27/200 [27:32<2:54:21, 60.47s/it]"
          ]
        },
        {
          "metadata": {
            "tags": null
          },
          "name": "stdout",
          "output_type": "stream",
          "text": [
            "Accuracy: 80.67642405063292 %\n",
            "Epoch: 27 \tTraining Loss: 0.561648 \tValidation Loss: 0.563294\n"
          ]
        },
        {
          "metadata": {
            "tags": null
          },
          "name": "stderr",
          "output_type": "stream",
          "text": [
            "\r 14%|█▍        | 28/200 [28:31<2:52:28, 60.17s/it]"
          ]
        },
        {
          "metadata": {
            "tags": null
          },
          "name": "stdout",
          "output_type": "stream",
          "text": [
            "Accuracy: 74.12974683544304 %\n",
            "Epoch: 28 \tTraining Loss: 0.559996 \tValidation Loss: 0.824984\n"
          ]
        },
        {
          "metadata": {
            "tags": null
          },
          "name": "stderr",
          "output_type": "stream",
          "text": [
            "\r 14%|█▍        | 29/200 [29:31<2:51:20, 60.12s/it]"
          ]
        },
        {
          "metadata": {
            "tags": null
          },
          "name": "stdout",
          "output_type": "stream",
          "text": [
            "Accuracy: 77.84810126582279 %\n",
            "Epoch: 29 \tTraining Loss: 0.560196 \tValidation Loss: 0.643487\n"
          ]
        },
        {
          "metadata": {
            "tags": null
          },
          "name": "stderr",
          "output_type": "stream",
          "text": [
            "\r 15%|█▌        | 30/200 [30:32<2:50:28, 60.17s/it]"
          ]
        },
        {
          "metadata": {
            "tags": null
          },
          "name": "stdout",
          "output_type": "stream",
          "text": [
            "Accuracy: 77.23496835443038 %\n",
            "Epoch: 30 \tTraining Loss: 0.552261 \tValidation Loss: 0.711924\n"
          ]
        },
        {
          "metadata": {
            "tags": null
          },
          "name": "stderr",
          "output_type": "stream",
          "text": [
            "\r 16%|█▌        | 31/200 [31:31<2:49:04, 60.02s/it]"
          ]
        },
        {
          "metadata": {
            "tags": null
          },
          "name": "stdout",
          "output_type": "stream",
          "text": [
            "Accuracy: 80.73575949367088 %\n",
            "Epoch: 31 \tTraining Loss: 0.546051 \tValidation Loss: 0.553122\n"
          ]
        },
        {
          "metadata": {
            "tags": null
          },
          "name": "stderr",
          "output_type": "stream",
          "text": [
            "\r 16%|█▌        | 32/200 [32:31<2:47:55, 59.97s/it]"
          ]
        },
        {
          "metadata": {
            "tags": null
          },
          "name": "stdout",
          "output_type": "stream",
          "text": [
            "Accuracy: 87.42088607594937 %\n",
            "Epoch: 32 \tTraining Loss: 0.428507 \tValidation Loss: 0.338918\n",
            "Validation loss decreased (0.521695 --> 0.338918).  Saving model ...\n"
          ]
        },
        {
          "metadata": {
            "tags": null
          },
          "name": "stderr",
          "output_type": "stream",
          "text": [
            "\r 16%|█▋        | 33/200 [33:32<2:47:36, 60.22s/it]"
          ]
        },
        {
          "metadata": {
            "tags": null
          },
          "name": "stdout",
          "output_type": "stream",
          "text": [
            "Accuracy: 86.05617088607595 %\n",
            "Epoch: 33 \tTraining Loss: 0.405163 \tValidation Loss: 0.388378\n"
          ]
        },
        {
          "metadata": {
            "tags": null
          },
          "name": "stderr",
          "output_type": "stream",
          "text": [
            "\r 17%|█▋        | 34/200 [34:32<2:46:07, 60.05s/it]"
          ]
        },
        {
          "metadata": {
            "tags": null
          },
          "name": "stdout",
          "output_type": "stream",
          "text": [
            "Accuracy: 86.08583860759494 %\n",
            "Epoch: 34 \tTraining Loss: 0.401566 \tValidation Loss: 0.389075\n"
          ]
        },
        {
          "metadata": {
            "tags": null
          },
          "name": "stderr",
          "output_type": "stream",
          "text": [
            "\r 18%|█▊        | 35/200 [35:31<2:44:34, 59.85s/it]"
          ]
        },
        {
          "metadata": {
            "tags": null
          },
          "name": "stdout",
          "output_type": "stream",
          "text": [
            "Accuracy: 86.16495253164557 %\n",
            "Epoch: 35 \tTraining Loss: 0.395076 \tValidation Loss: 0.395910\n"
          ]
        },
        {
          "metadata": {
            "tags": null
          },
          "name": "stderr",
          "output_type": "stream",
          "text": [
            "\r 18%|█▊        | 36/200 [36:31<2:43:57, 59.99s/it]"
          ]
        },
        {
          "metadata": {
            "tags": null
          },
          "name": "stdout",
          "output_type": "stream",
          "text": [
            "Accuracy: 87.30221518987342 %\n",
            "Epoch: 36 \tTraining Loss: 0.408936 \tValidation Loss: 0.351722\n"
          ]
        },
        {
          "metadata": {
            "tags": null
          },
          "name": "stderr",
          "output_type": "stream",
          "text": [
            "\r 18%|█▊        | 37/200 [37:31<2:43:03, 60.02s/it]"
          ]
        },
        {
          "metadata": {
            "tags": null
          },
          "name": "stdout",
          "output_type": "stream",
          "text": [
            "Accuracy: 83.51463607594937 %\n",
            "Epoch: 37 \tTraining Loss: 0.393584 \tValidation Loss: 0.459533\n"
          ]
        },
        {
          "metadata": {
            "tags": null
          },
          "name": "stderr",
          "output_type": "stream",
          "text": [
            "\r 19%|█▉        | 38/200 [38:31<2:41:26, 59.79s/it]"
          ]
        },
        {
          "metadata": {
            "tags": null
          },
          "name": "stdout",
          "output_type": "stream",
          "text": [
            "Accuracy: 86.93631329113924 %\n",
            "Epoch: 38 \tTraining Loss: 0.400285 \tValidation Loss: 0.370611\n"
          ]
        },
        {
          "metadata": {
            "tags": null
          },
          "name": "stderr",
          "output_type": "stream",
          "text": [
            "\r 20%|█▉        | 39/200 [39:31<2:40:49, 59.94s/it]"
          ]
        },
        {
          "metadata": {
            "tags": null
          },
          "name": "stdout",
          "output_type": "stream",
          "text": [
            "Accuracy: 83.57397151898734 %\n",
            "Epoch: 39 \tTraining Loss: 0.405593 \tValidation Loss: 0.481389\n"
          ]
        },
        {
          "metadata": {
            "tags": null
          },
          "name": "stderr",
          "output_type": "stream",
          "text": [
            "\r 20%|██        | 40/200 [40:31<2:40:06, 60.04s/it]"
          ]
        },
        {
          "metadata": {
            "tags": null
          },
          "name": "stdout",
          "output_type": "stream",
          "text": [
            "Accuracy: 87.18354430379746 %\n",
            "Epoch: 40 \tTraining Loss: 0.399108 \tValidation Loss: 0.355287\n"
          ]
        },
        {
          "metadata": {
            "tags": null
          },
          "name": "stderr",
          "output_type": "stream",
          "text": [
            "\r 20%|██        | 41/200 [41:31<2:38:37, 59.86s/it]"
          ]
        },
        {
          "metadata": {
            "tags": null
          },
          "name": "stdout",
          "output_type": "stream",
          "text": [
            "Accuracy: 85.68037974683544 %\n",
            "Epoch: 41 \tTraining Loss: 0.399141 \tValidation Loss: 0.397381\n"
          ]
        },
        {
          "metadata": {
            "tags": null
          },
          "name": "stderr",
          "output_type": "stream",
          "text": [
            "\r 21%|██        | 42/200 [42:31<2:38:00, 60.00s/it]"
          ]
        },
        {
          "metadata": {
            "tags": null
          },
          "name": "stdout",
          "output_type": "stream",
          "text": [
            "Accuracy: 86.15506329113924 %\n",
            "Epoch: 42 \tTraining Loss: 0.396600 \tValidation Loss: 0.370397\n"
          ]
        },
        {
          "metadata": {
            "tags": null
          },
          "name": "stderr",
          "output_type": "stream",
          "text": [
            "\r 22%|██▏       | 43/200 [43:31<2:37:02, 60.01s/it]"
          ]
        },
        {
          "metadata": {
            "tags": null
          },
          "name": "stdout",
          "output_type": "stream",
          "text": [
            "Accuracy: 89.68552215189874 %\n",
            "Epoch: 43 \tTraining Loss: 0.312330 \tValidation Loss: 0.277292\n",
            "Validation loss decreased (0.338918 --> 0.277292).  Saving model ...\n"
          ]
        },
        {
          "metadata": {
            "tags": null
          },
          "name": "stderr",
          "output_type": "stream",
          "text": [
            "\r 22%|██▏       | 44/200 [44:31<2:36:01, 60.01s/it]"
          ]
        },
        {
          "metadata": {
            "tags": null
          },
          "name": "stdout",
          "output_type": "stream",
          "text": [
            "Accuracy: 89.9426424050633 %\n",
            "Epoch: 44 \tTraining Loss: 0.285527 \tValidation Loss: 0.271504\n",
            "Validation loss decreased (0.277292 --> 0.271504).  Saving model ...\n"
          ]
        },
        {
          "metadata": {
            "tags": null
          },
          "name": "stderr",
          "output_type": "stream",
          "text": [
            "\r 22%|██▎       | 45/200 [45:32<2:35:36, 60.23s/it]"
          ]
        },
        {
          "metadata": {
            "tags": null
          },
          "name": "stdout",
          "output_type": "stream",
          "text": [
            "Accuracy: 90.53599683544304 %\n",
            "Epoch: 45 \tTraining Loss: 0.282461 \tValidation Loss: 0.252460\n",
            "Validation loss decreased (0.271504 --> 0.252460).  Saving model ...\n"
          ]
        },
        {
          "metadata": {
            "tags": null
          },
          "name": "stderr",
          "output_type": "stream",
          "text": [
            "\r 23%|██▎       | 46/200 [46:32<2:34:47, 60.31s/it]"
          ]
        },
        {
          "metadata": {
            "tags": null
          },
          "name": "stdout",
          "output_type": "stream",
          "text": [
            "Accuracy: 89.87341772151899 %\n",
            "Epoch: 46 \tTraining Loss: 0.283541 \tValidation Loss: 0.282111\n"
          ]
        },
        {
          "metadata": {
            "tags": null
          },
          "name": "stderr",
          "output_type": "stream",
          "text": [
            "\r 24%|██▎       | 47/200 [47:32<2:33:34, 60.22s/it]"
          ]
        },
        {
          "metadata": {
            "tags": null
          },
          "name": "stdout",
          "output_type": "stream",
          "text": [
            "Accuracy: 89.41851265822785 %\n",
            "Epoch: 47 \tTraining Loss: 0.279472 \tValidation Loss: 0.291735\n"
          ]
        },
        {
          "metadata": {
            "tags": null
          },
          "name": "stderr",
          "output_type": "stream",
          "text": [
            "\r 24%|██▍       | 48/200 [48:33<2:32:31, 60.21s/it]"
          ]
        },
        {
          "metadata": {
            "tags": null
          },
          "name": "stdout",
          "output_type": "stream",
          "text": [
            "Accuracy: 88.20213607594937 %\n",
            "Epoch: 48 \tTraining Loss: 0.272448 \tValidation Loss: 0.334652\n"
          ]
        },
        {
          "metadata": {
            "tags": null
          },
          "name": "stderr",
          "output_type": "stream",
          "text": [
            "\r 24%|██▍       | 49/200 [49:32<2:31:09, 60.06s/it]"
          ]
        },
        {
          "metadata": {
            "tags": null
          },
          "name": "stdout",
          "output_type": "stream",
          "text": [
            "Accuracy: 89.72507911392405 %\n",
            "Epoch: 49 \tTraining Loss: 0.273729 \tValidation Loss: 0.291269\n"
          ]
        },
        {
          "metadata": {
            "tags": null
          },
          "name": "stderr",
          "output_type": "stream",
          "text": [
            "\r 25%|██▌       | 50/200 [50:32<2:29:51, 59.94s/it]"
          ]
        },
        {
          "metadata": {
            "tags": null
          },
          "name": "stdout",
          "output_type": "stream",
          "text": [
            "Accuracy: 88.42958860759494 %\n",
            "Epoch: 50 \tTraining Loss: 0.273876 \tValidation Loss: 0.329140\n"
          ]
        },
        {
          "metadata": {
            "tags": null
          },
          "name": "stderr",
          "output_type": "stream",
          "text": [
            "\r 26%|██▌       | 51/200 [51:32<2:28:59, 60.00s/it]"
          ]
        },
        {
          "metadata": {
            "tags": null
          },
          "name": "stdout",
          "output_type": "stream",
          "text": [
            "Accuracy: 89.27017405063292 %\n",
            "Epoch: 51 \tTraining Loss: 0.281768 \tValidation Loss: 0.299344\n"
          ]
        },
        {
          "metadata": {
            "tags": null
          },
          "name": "stderr",
          "output_type": "stream",
          "text": [
            "\r 26%|██▌       | 52/200 [52:32<2:27:51, 59.94s/it]"
          ]
        },
        {
          "metadata": {
            "tags": null
          },
          "name": "stdout",
          "output_type": "stream",
          "text": [
            "Accuracy: 90.23931962025317 %\n",
            "Epoch: 52 \tTraining Loss: 0.276753 \tValidation Loss: 0.265471\n"
          ]
        },
        {
          "metadata": {
            "tags": null
          },
          "name": "stderr",
          "output_type": "stream",
          "text": [
            "\r 26%|██▋       | 53/200 [53:32<2:26:51, 59.94s/it]"
          ]
        },
        {
          "metadata": {
            "tags": null
          },
          "name": "stdout",
          "output_type": "stream",
          "text": [
            "Accuracy: 90.49643987341773 %\n",
            "Epoch: 53 \tTraining Loss: 0.274873 \tValidation Loss: 0.250578\n",
            "Validation loss decreased (0.252460 --> 0.250578).  Saving model ...\n"
          ]
        },
        {
          "metadata": {
            "tags": null
          },
          "name": "stderr",
          "output_type": "stream",
          "text": [
            "\r 27%|██▋       | 54/200 [54:31<2:25:30, 59.80s/it]"
          ]
        },
        {
          "metadata": {
            "tags": null
          },
          "name": "stdout",
          "output_type": "stream",
          "text": [
            "Accuracy: 88.47903481012658 %\n",
            "Epoch: 54 \tTraining Loss: 0.274521 \tValidation Loss: 0.313596\n"
          ]
        },
        {
          "metadata": {
            "tags": null
          },
          "name": "stderr",
          "output_type": "stream",
          "text": [
            "\r 28%|██▊       | 55/200 [55:32<2:24:52, 59.95s/it]"
          ]
        },
        {
          "metadata": {
            "tags": null
          },
          "name": "stdout",
          "output_type": "stream",
          "text": [
            "Accuracy: 89.68552215189874 %\n",
            "Epoch: 55 \tTraining Loss: 0.273969 \tValidation Loss: 0.284567\n"
          ]
        },
        {
          "metadata": {
            "tags": null
          },
          "name": "stderr",
          "output_type": "stream",
          "text": [
            "\r 28%|██▊       | 56/200 [56:32<2:23:59, 59.99s/it]"
          ]
        },
        {
          "metadata": {
            "tags": null
          },
          "name": "stdout",
          "output_type": "stream",
          "text": [
            "Accuracy: 89.34928797468355 %\n",
            "Epoch: 56 \tTraining Loss: 0.272720 \tValidation Loss: 0.301935\n"
          ]
        },
        {
          "metadata": {
            "tags": null
          },
          "name": "stderr",
          "output_type": "stream",
          "text": [
            "\r 28%|██▊       | 57/200 [57:31<2:22:25, 59.76s/it]"
          ]
        },
        {
          "metadata": {
            "tags": null
          },
          "name": "stdout",
          "output_type": "stream",
          "text": [
            "Accuracy: 88.92405063291139 %\n",
            "Epoch: 57 \tTraining Loss: 0.278423 \tValidation Loss: 0.317283\n"
          ]
        },
        {
          "metadata": {
            "tags": null
          },
          "name": "stderr",
          "output_type": "stream",
          "text": [
            "\r 29%|██▉       | 58/200 [58:31<2:21:40, 59.87s/it]"
          ]
        },
        {
          "metadata": {
            "tags": null
          },
          "name": "stdout",
          "output_type": "stream",
          "text": [
            "Accuracy: 89.96242088607595 %\n",
            "Epoch: 58 \tTraining Loss: 0.269908 \tValidation Loss: 0.274118\n"
          ]
        },
        {
          "metadata": {
            "tags": null
          },
          "name": "stderr",
          "output_type": "stream",
          "text": [
            "\r 30%|██▉       | 59/200 [59:31<2:20:29, 59.78s/it]"
          ]
        },
        {
          "metadata": {
            "tags": null
          },
          "name": "stdout",
          "output_type": "stream",
          "text": [
            "Accuracy: 87.58900316455696 %\n",
            "Epoch: 59 \tTraining Loss: 0.266819 \tValidation Loss: 0.353890\n"
          ]
        },
        {
          "metadata": {
            "tags": null
          },
          "name": "stderr",
          "output_type": "stream",
          "text": [
            "\r 30%|███       | 60/200 [1:00:30<2:19:30, 59.79s/it]"
          ]
        },
        {
          "metadata": {
            "tags": null
          },
          "name": "stdout",
          "output_type": "stream",
          "text": [
            "Accuracy: 89.9426424050633 %\n",
            "Epoch: 60 \tTraining Loss: 0.263588 \tValidation Loss: 0.281862\n"
          ]
        },
        {
          "metadata": {
            "tags": null
          },
          "name": "stderr",
          "output_type": "stream",
          "text": [
            "\r 30%|███       | 61/200 [1:01:30<2:18:23, 59.74s/it]"
          ]
        },
        {
          "metadata": {
            "tags": null
          },
          "name": "stdout",
          "output_type": "stream",
          "text": [
            "Accuracy: 90.57555379746836 %\n",
            "Epoch: 61 \tTraining Loss: 0.272322 \tValidation Loss: 0.258098\n"
          ]
        },
        {
          "metadata": {
            "tags": null
          },
          "name": "stderr",
          "output_type": "stream",
          "text": [
            "\r 31%|███       | 62/200 [1:02:29<2:17:10, 59.64s/it]"
          ]
        },
        {
          "metadata": {
            "tags": null
          },
          "name": "stdout",
          "output_type": "stream",
          "text": [
            "Accuracy: 87.9054588607595 %\n",
            "Epoch: 62 \tTraining Loss: 0.269899 \tValidation Loss: 0.357283\n"
          ]
        },
        {
          "metadata": {
            "tags": null
          },
          "name": "stderr",
          "output_type": "stream",
          "text": [
            "\r 32%|███▏      | 63/200 [1:03:29<2:16:01, 59.57s/it]"
          ]
        },
        {
          "metadata": {
            "tags": null
          },
          "name": "stdout",
          "output_type": "stream",
          "text": [
            "Accuracy: 89.49762658227849 %\n",
            "Epoch: 63 \tTraining Loss: 0.267417 \tValidation Loss: 0.294788\n"
          ]
        },
        {
          "metadata": {
            "tags": null
          },
          "name": "stderr",
          "output_type": "stream",
          "text": [
            "\r 32%|███▏      | 64/200 [1:04:28<2:15:04, 59.59s/it]"
          ]
        },
        {
          "metadata": {
            "tags": null
          },
          "name": "stdout",
          "output_type": "stream",
          "text": [
            "Accuracy: 91.94026898734177 %\n",
            "Epoch: 64 \tTraining Loss: 0.191172 \tValidation Loss: 0.210627\n",
            "Validation loss decreased (0.250578 --> 0.210627).  Saving model ...\n"
          ]
        },
        {
          "metadata": {
            "tags": null
          },
          "name": "stderr",
          "output_type": "stream",
          "text": [
            "\r 32%|███▎      | 65/200 [1:05:28<2:14:15, 59.67s/it]"
          ]
        },
        {
          "metadata": {
            "tags": null
          },
          "name": "stdout",
          "output_type": "stream",
          "text": [
            "Accuracy: 92.63251582278481 %\n",
            "Epoch: 65 \tTraining Loss: 0.175626 \tValidation Loss: 0.203597\n",
            "Validation loss decreased (0.210627 --> 0.203597).  Saving model ...\n"
          ]
        },
        {
          "metadata": {
            "tags": null
          },
          "name": "stderr",
          "output_type": "stream",
          "text": [
            "\r 33%|███▎      | 66/200 [1:06:28<2:13:28, 59.77s/it]"
          ]
        },
        {
          "metadata": {
            "tags": null
          },
          "name": "stdout",
          "output_type": "stream",
          "text": [
            "Accuracy: 92.05893987341773 %\n",
            "Epoch: 66 \tTraining Loss: 0.171229 \tValidation Loss: 0.209568\n"
          ]
        },
        {
          "metadata": {
            "tags": null
          },
          "name": "stderr",
          "output_type": "stream",
          "text": [
            "\r 34%|███▎      | 67/200 [1:07:28<2:12:34, 59.81s/it]"
          ]
        },
        {
          "metadata": {
            "tags": null
          },
          "name": "stdout",
          "output_type": "stream",
          "text": [
            "Accuracy: 91.90071202531645 %\n",
            "Epoch: 67 \tTraining Loss: 0.165808 \tValidation Loss: 0.226854\n"
          ]
        },
        {
          "metadata": {
            "tags": null
          },
          "name": "stderr",
          "output_type": "stream",
          "text": [
            "\r 34%|███▍      | 68/200 [1:08:28<2:11:21, 59.71s/it]"
          ]
        },
        {
          "metadata": {
            "tags": null
          },
          "name": "stdout",
          "output_type": "stream",
          "text": [
            "Accuracy: 91.75237341772151 %\n",
            "Epoch: 68 \tTraining Loss: 0.167389 \tValidation Loss: 0.226948\n"
          ]
        },
        {
          "metadata": {
            "tags": null
          },
          "name": "stderr",
          "output_type": "stream",
          "text": [
            "\r 34%|███▍      | 69/200 [1:09:27<2:10:15, 59.66s/it]"
          ]
        },
        {
          "metadata": {
            "tags": null
          },
          "name": "stdout",
          "output_type": "stream",
          "text": [
            "Accuracy: 92.3556170886076 %\n",
            "Epoch: 69 \tTraining Loss: 0.172894 \tValidation Loss: 0.207738\n"
          ]
        },
        {
          "metadata": {
            "tags": null
          },
          "name": "stderr",
          "output_type": "stream",
          "text": [
            "\r 35%|███▌      | 70/200 [1:10:27<2:09:00, 59.54s/it]"
          ]
        },
        {
          "metadata": {
            "tags": null
          },
          "name": "stdout",
          "output_type": "stream",
          "text": [
            "Accuracy: 92.04905063291139 %\n",
            "Epoch: 70 \tTraining Loss: 0.161644 \tValidation Loss: 0.218621\n"
          ]
        },
        {
          "metadata": {
            "tags": null
          },
          "name": "stderr",
          "output_type": "stream",
          "text": [
            "\r 36%|███▌      | 71/200 [1:11:27<2:08:18, 59.68s/it]"
          ]
        },
        {
          "metadata": {
            "tags": null
          },
          "name": "stdout",
          "output_type": "stream",
          "text": [
            "Accuracy: 91.70292721518987 %\n",
            "Epoch: 71 \tTraining Loss: 0.159643 \tValidation Loss: 0.237790\n"
          ]
        },
        {
          "metadata": {
            "tags": null
          },
          "name": "stderr",
          "output_type": "stream",
          "text": [
            "\r 36%|███▌      | 72/200 [1:12:26<2:07:17, 59.67s/it]"
          ]
        },
        {
          "metadata": {
            "tags": null
          },
          "name": "stdout",
          "output_type": "stream",
          "text": [
            "Accuracy: 91.96004746835443 %\n",
            "Epoch: 72 \tTraining Loss: 0.163240 \tValidation Loss: 0.222280\n"
          ]
        },
        {
          "metadata": {
            "tags": null
          },
          "name": "stderr",
          "output_type": "stream",
          "text": [
            "\r 36%|███▋      | 73/200 [1:13:25<2:06:03, 59.56s/it]"
          ]
        },
        {
          "metadata": {
            "tags": null
          },
          "name": "stdout",
          "output_type": "stream",
          "text": [
            "Accuracy: 91.9501582278481 %\n",
            "Epoch: 73 \tTraining Loss: 0.166917 \tValidation Loss: 0.223490\n"
          ]
        },
        {
          "metadata": {
            "tags": null
          },
          "name": "stderr",
          "output_type": "stream",
          "text": [
            "\r 37%|███▋      | 74/200 [1:14:25<2:05:11, 59.62s/it]"
          ]
        },
        {
          "metadata": {
            "tags": null
          },
          "name": "stdout",
          "output_type": "stream",
          "text": [
            "Accuracy: 91.42602848101266 %\n",
            "Epoch: 74 \tTraining Loss: 0.164122 \tValidation Loss: 0.237146\n"
          ]
        },
        {
          "metadata": {
            "tags": null
          },
          "name": "stderr",
          "output_type": "stream",
          "text": [
            "\r 38%|███▊      | 75/200 [1:15:25<2:04:10, 59.61s/it]"
          ]
        },
        {
          "metadata": {
            "tags": null
          },
          "name": "stdout",
          "output_type": "stream",
          "text": [
            "Accuracy: 91.37658227848101 %\n",
            "Epoch: 75 \tTraining Loss: 0.163203 \tValidation Loss: 0.232754\n"
          ]
        },
        {
          "metadata": {
            "tags": null
          },
          "name": "stderr",
          "output_type": "stream",
          "text": [
            "\r 38%|███▊      | 76/200 [1:16:25<2:03:22, 59.70s/it]"
          ]
        },
        {
          "metadata": {
            "tags": null
          },
          "name": "stdout",
          "output_type": "stream",
          "text": [
            "Accuracy: 93.43354430379746 %\n",
            "Epoch: 76 \tTraining Loss: 0.122940 \tValidation Loss: 0.172968\n",
            "Validation loss decreased (0.203597 --> 0.172968).  Saving model ...\n"
          ]
        },
        {
          "metadata": {
            "tags": null
          },
          "name": "stderr",
          "output_type": "stream",
          "text": [
            "\r 38%|███▊      | 77/200 [1:17:24<2:02:19, 59.67s/it]"
          ]
        },
        {
          "metadata": {
            "tags": null
          },
          "name": "stdout",
          "output_type": "stream",
          "text": [
            "Accuracy: 93.41376582278481 %\n",
            "Epoch: 77 \tTraining Loss: 0.108593 \tValidation Loss: 0.175826\n"
          ]
        },
        {
          "metadata": {
            "tags": null
          },
          "name": "stderr",
          "output_type": "stream",
          "text": [
            "\r 39%|███▉      | 78/200 [1:18:24<2:01:17, 59.65s/it]"
          ]
        },
        {
          "metadata": {
            "tags": null
          },
          "name": "stdout",
          "output_type": "stream",
          "text": [
            "Accuracy: 93.41376582278481 %\n",
            "Epoch: 78 \tTraining Loss: 0.105239 \tValidation Loss: 0.178349\n"
          ]
        },
        {
          "metadata": {
            "tags": null
          },
          "name": "stderr",
          "output_type": "stream",
          "text": [
            "\r 40%|███▉      | 79/200 [1:19:24<2:00:24, 59.71s/it]"
          ]
        },
        {
          "metadata": {
            "tags": null
          },
          "name": "stdout",
          "output_type": "stream",
          "text": [
            "Accuracy: 93.53243670886076 %\n",
            "Epoch: 79 \tTraining Loss: 0.106153 \tValidation Loss: 0.170721\n",
            "Validation loss decreased (0.172968 --> 0.170721).  Saving model ...\n"
          ]
        },
        {
          "metadata": {
            "tags": null
          },
          "name": "stderr",
          "output_type": "stream",
          "text": [
            "\r 40%|████      | 80/200 [1:20:23<1:59:05, 59.55s/it]"
          ]
        },
        {
          "metadata": {
            "tags": null
          },
          "name": "stdout",
          "output_type": "stream",
          "text": [
            "Accuracy: 93.24564873417721 %\n",
            "Epoch: 80 \tTraining Loss: 0.102513 \tValidation Loss: 0.185003\n"
          ]
        },
        {
          "metadata": {
            "tags": null
          },
          "name": "stderr",
          "output_type": "stream",
          "text": [
            "\r 40%|████      | 81/200 [1:21:23<1:58:22, 59.68s/it]"
          ]
        },
        {
          "metadata": {
            "tags": null
          },
          "name": "stdout",
          "output_type": "stream",
          "text": [
            "Accuracy: 93.15664556962025 %\n",
            "Epoch: 81 \tTraining Loss: 0.092560 \tValidation Loss: 0.182142\n"
          ]
        },
        {
          "metadata": {
            "tags": null
          },
          "name": "stderr",
          "output_type": "stream",
          "text": [
            "\r 41%|████      | 82/200 [1:22:23<1:57:30, 59.75s/it]"
          ]
        },
        {
          "metadata": {
            "tags": null
          },
          "name": "stdout",
          "output_type": "stream",
          "text": [
            "Accuracy: 93.26542721518987 %\n",
            "Epoch: 82 \tTraining Loss: 0.100404 \tValidation Loss: 0.183969\n"
          ]
        },
        {
          "metadata": {
            "tags": null
          },
          "name": "stderr",
          "output_type": "stream",
          "text": [
            "\r 42%|████▏     | 83/200 [1:23:22<1:56:12, 59.59s/it]"
          ]
        },
        {
          "metadata": {
            "tags": null
          },
          "name": "stdout",
          "output_type": "stream",
          "text": [
            "Accuracy: 93.04786392405063 %\n",
            "Epoch: 83 \tTraining Loss: 0.096225 \tValidation Loss: 0.186719\n"
          ]
        },
        {
          "metadata": {
            "tags": null
          },
          "name": "stderr",
          "output_type": "stream",
          "text": [
            "\r 42%|████▏     | 84/200 [1:24:22<1:55:30, 59.74s/it]"
          ]
        },
        {
          "metadata": {
            "tags": null
          },
          "name": "stdout",
          "output_type": "stream",
          "text": [
            "Accuracy: 93.0676424050633 %\n",
            "Epoch: 84 \tTraining Loss: 0.094367 \tValidation Loss: 0.194944\n"
          ]
        },
        {
          "metadata": {
            "tags": null
          },
          "name": "stderr",
          "output_type": "stream",
          "text": [
            "\r 42%|████▎     | 85/200 [1:25:22<1:54:30, 59.75s/it]"
          ]
        },
        {
          "metadata": {
            "tags": null
          },
          "name": "stdout",
          "output_type": "stream",
          "text": [
            "Accuracy: 93.48299050632912 %\n",
            "Epoch: 85 \tTraining Loss: 0.098868 \tValidation Loss: 0.180141\n"
          ]
        },
        {
          "metadata": {
            "tags": null
          },
          "name": "stderr",
          "output_type": "stream",
          "text": [
            "\r 43%|████▎     | 86/200 [1:26:21<1:53:00, 59.48s/it]"
          ]
        },
        {
          "metadata": {
            "tags": null
          },
          "name": "stdout",
          "output_type": "stream",
          "text": [
            "Accuracy: 93.21598101265823 %\n",
            "Epoch: 86 \tTraining Loss: 0.102255 \tValidation Loss: 0.183141\n"
          ]
        },
        {
          "metadata": {
            "tags": null
          },
          "name": "stderr",
          "output_type": "stream",
          "text": [
            "\r 44%|████▎     | 87/200 [1:27:21<1:52:26, 59.70s/it]"
          ]
        },
        {
          "metadata": {
            "tags": null
          },
          "name": "stdout",
          "output_type": "stream",
          "text": [
            "Accuracy: 93.30498417721519 %\n",
            "Epoch: 87 \tTraining Loss: 0.097476 \tValidation Loss: 0.190128\n"
          ]
        },
        {
          "metadata": {
            "tags": null
          },
          "name": "stderr",
          "output_type": "stream",
          "text": [
            "\r 44%|████▍     | 88/200 [1:28:21<1:51:26, 59.70s/it]"
          ]
        },
        {
          "metadata": {
            "tags": null
          },
          "name": "stdout",
          "output_type": "stream",
          "text": [
            "Accuracy: 93.21598101265823 %\n",
            "Epoch: 88 \tTraining Loss: 0.097034 \tValidation Loss: 0.188154\n"
          ]
        },
        {
          "metadata": {
            "tags": null
          },
          "name": "stderr",
          "output_type": "stream",
          "text": [
            "\r 44%|████▍     | 89/200 [1:29:20<1:50:05, 59.51s/it]"
          ]
        },
        {
          "metadata": {
            "tags": null
          },
          "name": "stdout",
          "output_type": "stream",
          "text": [
            "Accuracy: 93.25553797468355 %\n",
            "Epoch: 89 \tTraining Loss: 0.090863 \tValidation Loss: 0.200603\n"
          ]
        },
        {
          "metadata": {
            "tags": null
          },
          "name": "stderr",
          "output_type": "stream",
          "text": [
            "\r 45%|████▌     | 90/200 [1:30:20<1:49:23, 59.67s/it]"
          ]
        },
        {
          "metadata": {
            "tags": null
          },
          "name": "stdout",
          "output_type": "stream",
          "text": [
            "Accuracy: 93.92800632911393 %\n",
            "Epoch: 90 \tTraining Loss: 0.074463 \tValidation Loss: 0.168692\n",
            "Validation loss decreased (0.170721 --> 0.168692).  Saving model ...\n"
          ]
        },
        {
          "metadata": {
            "tags": null
          },
          "name": "stderr",
          "output_type": "stream",
          "text": [
            "\r 46%|████▌     | 91/200 [1:31:20<1:48:50, 59.92s/it]"
          ]
        },
        {
          "metadata": {
            "tags": null
          },
          "name": "stdout",
          "output_type": "stream",
          "text": [
            "Accuracy: 94.0565664556962 %\n",
            "Epoch: 91 \tTraining Loss: 0.067499 \tValidation Loss: 0.170430\n"
          ]
        },
        {
          "metadata": {
            "tags": null
          },
          "name": "stderr",
          "output_type": "stream",
          "text": [
            "\r 46%|████▌     | 92/200 [1:32:20<1:47:36, 59.78s/it]"
          ]
        },
        {
          "metadata": {
            "tags": null
          },
          "name": "stdout",
          "output_type": "stream",
          "text": [
            "Accuracy: 93.99723101265823 %\n",
            "Epoch: 92 \tTraining Loss: 0.065649 \tValidation Loss: 0.169678\n"
          ]
        },
        {
          "metadata": {
            "tags": null
          },
          "name": "stderr",
          "output_type": "stream",
          "text": [
            "\r 46%|████▋     | 93/200 [1:33:19<1:46:32, 59.75s/it]"
          ]
        },
        {
          "metadata": {
            "tags": null
          },
          "name": "stdout",
          "output_type": "stream",
          "text": [
            "Accuracy: 93.79944620253164 %\n",
            "Epoch: 93 \tTraining Loss: 0.066305 \tValidation Loss: 0.175561\n"
          ]
        },
        {
          "metadata": {
            "tags": null
          },
          "name": "stderr",
          "output_type": "stream",
          "text": [
            "\r 47%|████▋     | 94/200 [1:34:20<1:45:56, 59.97s/it]"
          ]
        },
        {
          "metadata": {
            "tags": null
          },
          "name": "stdout",
          "output_type": "stream",
          "text": [
            "Accuracy: 93.70055379746836 %\n",
            "Epoch: 94 \tTraining Loss: 0.065551 \tValidation Loss: 0.180746\n"
          ]
        },
        {
          "metadata": {
            "tags": null
          },
          "name": "stderr",
          "output_type": "stream",
          "text": [
            "\r 48%|████▊     | 95/200 [1:35:19<1:44:39, 59.80s/it]"
          ]
        },
        {
          "metadata": {
            "tags": null
          },
          "name": "stdout",
          "output_type": "stream",
          "text": [
            "Accuracy: 93.9873417721519 %\n",
            "Epoch: 95 \tTraining Loss: 0.062619 \tValidation Loss: 0.177653\n"
          ]
        },
        {
          "metadata": {
            "tags": null
          },
          "name": "stderr",
          "output_type": "stream",
          "text": [
            "\r 48%|████▊     | 96/200 [1:36:19<1:43:32, 59.74s/it]"
          ]
        },
        {
          "metadata": {
            "tags": null
          },
          "name": "stdout",
          "output_type": "stream",
          "text": [
            "Accuracy: 93.71044303797468 %\n",
            "Epoch: 96 \tTraining Loss: 0.061851 \tValidation Loss: 0.175577\n"
          ]
        },
        {
          "metadata": {
            "tags": null
          },
          "name": "stderr",
          "output_type": "stream",
          "text": [
            "\r 48%|████▊     | 97/200 [1:37:19<1:42:47, 59.88s/it]"
          ]
        },
        {
          "metadata": {
            "tags": null
          },
          "name": "stdout",
          "output_type": "stream",
          "text": [
            "Accuracy: 94.04667721518987 %\n",
            "Epoch: 97 \tTraining Loss: 0.063130 \tValidation Loss: 0.171449\n"
          ]
        },
        {
          "metadata": {
            "tags": null
          },
          "name": "stderr",
          "output_type": "stream",
          "text": [
            "\r 49%|████▉     | 98/200 [1:38:19<1:41:49, 59.89s/it]"
          ]
        },
        {
          "metadata": {
            "tags": null
          },
          "name": "stdout",
          "output_type": "stream",
          "text": [
            "Accuracy: 93.75 %\n",
            "Epoch: 98 \tTraining Loss: 0.060470 \tValidation Loss: 0.176884\n"
          ]
        },
        {
          "metadata": {
            "tags": null
          },
          "name": "stderr",
          "output_type": "stream",
          "text": [
            "\r 50%|████▉     | 99/200 [1:39:19<1:40:37, 59.78s/it]"
          ]
        },
        {
          "metadata": {
            "tags": null
          },
          "name": "stdout",
          "output_type": "stream",
          "text": [
            "Accuracy: 93.8192246835443 %\n",
            "Epoch: 99 \tTraining Loss: 0.062663 \tValidation Loss: 0.172519\n"
          ]
        },
        {
          "metadata": {
            "tags": null
          },
          "name": "stderr",
          "output_type": "stream",
          "text": [
            "\r 50%|█████     | 100/200 [1:40:19<1:40:03, 60.03s/it]"
          ]
        },
        {
          "metadata": {
            "tags": null
          },
          "name": "stdout",
          "output_type": "stream",
          "text": [
            "Accuracy: 94.00712025316456 %\n",
            "Epoch: 100 \tTraining Loss: 0.060611 \tValidation Loss: 0.169438\n"
          ]
        },
        {
          "metadata": {
            "tags": null
          },
          "name": "stderr",
          "output_type": "stream",
          "text": [
            "\r 50%|█████     | 101/200 [1:41:20<1:39:16, 60.16s/it]"
          ]
        },
        {
          "metadata": {
            "tags": null
          },
          "name": "stdout",
          "output_type": "stream",
          "text": [
            "Accuracy: 94.11590189873418 %\n",
            "Epoch: 101 \tTraining Loss: 0.052231 \tValidation Loss: 0.164372\n",
            "Validation loss decreased (0.168692 --> 0.164372).  Saving model ...\n"
          ]
        },
        {
          "metadata": {
            "tags": null
          },
          "name": "stderr",
          "output_type": "stream",
          "text": [
            "\r 51%|█████     | 102/200 [1:42:20<1:38:11, 60.12s/it]"
          ]
        },
        {
          "metadata": {
            "tags": null
          },
          "name": "stdout",
          "output_type": "stream",
          "text": [
            "Accuracy: 94.25435126582279 %\n",
            "Epoch: 102 \tTraining Loss: 0.049588 \tValidation Loss: 0.164670\n"
          ]
        },
        {
          "metadata": {
            "tags": null
          },
          "name": "stderr",
          "output_type": "stream",
          "text": [
            "\r 52%|█████▏    | 103/200 [1:43:20<1:37:19, 60.21s/it]"
          ]
        },
        {
          "metadata": {
            "tags": null
          },
          "name": "stdout",
          "output_type": "stream",
          "text": [
            "Accuracy: 94.18512658227849 %\n",
            "Epoch: 103 \tTraining Loss: 0.046951 \tValidation Loss: 0.163496\n",
            "Validation loss decreased (0.164372 --> 0.163496).  Saving model ...\n"
          ]
        },
        {
          "metadata": {
            "tags": null
          },
          "name": "stderr",
          "output_type": "stream",
          "text": [
            "\r 52%|█████▏    | 104/200 [1:44:21<1:36:45, 60.47s/it]"
          ]
        },
        {
          "metadata": {
            "tags": null
          },
          "name": "stdout",
          "output_type": "stream",
          "text": [
            "Accuracy: 94.26424050632912 %\n",
            "Epoch: 104 \tTraining Loss: 0.046600 \tValidation Loss: 0.165298\n"
          ]
        },
        {
          "metadata": {
            "tags": null
          },
          "name": "stderr",
          "output_type": "stream",
          "text": [
            "\r 52%|█████▎    | 105/200 [1:45:21<1:35:32, 60.34s/it]"
          ]
        },
        {
          "metadata": {
            "tags": null
          },
          "name": "stdout",
          "output_type": "stream",
          "text": [
            "Accuracy: 94.14556962025317 %\n",
            "Epoch: 105 \tTraining Loss: 0.047655 \tValidation Loss: 0.164086\n"
          ]
        },
        {
          "metadata": {
            "tags": null
          },
          "name": "stderr",
          "output_type": "stream",
          "text": [
            "\r 53%|█████▎    | 106/200 [1:46:21<1:34:19, 60.21s/it]"
          ]
        },
        {
          "metadata": {
            "tags": null
          },
          "name": "stdout",
          "output_type": "stream",
          "text": [
            "Accuracy: 94.1257911392405 %\n",
            "Epoch: 106 \tTraining Loss: 0.047757 \tValidation Loss: 0.166202\n"
          ]
        },
        {
          "metadata": {
            "tags": null
          },
          "name": "stderr",
          "output_type": "stream",
          "text": [
            "\r 54%|█████▎    | 107/200 [1:47:22<1:33:32, 60.35s/it]"
          ]
        },
        {
          "metadata": {
            "tags": null
          },
          "name": "stdout",
          "output_type": "stream",
          "text": [
            "Accuracy: 94.19501582278481 %\n",
            "Epoch: 107 \tTraining Loss: 0.046912 \tValidation Loss: 0.159176\n",
            "Validation loss decreased (0.163496 --> 0.159176).  Saving model ...\n"
          ]
        },
        {
          "metadata": {
            "tags": null
          },
          "name": "stderr",
          "output_type": "stream",
          "text": [
            "\r 54%|█████▍    | 108/200 [1:48:22<1:32:25, 60.27s/it]"
          ]
        },
        {
          "metadata": {
            "tags": null
          },
          "name": "stdout",
          "output_type": "stream",
          "text": [
            "Accuracy: 94.19501582278481 %\n",
            "Epoch: 108 \tTraining Loss: 0.044867 \tValidation Loss: 0.162931\n"
          ]
        },
        {
          "metadata": {
            "tags": null
          },
          "name": "stderr",
          "output_type": "stream",
          "text": [
            "\r 55%|█████▍    | 109/200 [1:49:22<1:31:07, 60.09s/it]"
          ]
        },
        {
          "metadata": {
            "tags": null
          },
          "name": "stdout",
          "output_type": "stream",
          "text": [
            "Accuracy: 94.34335443037975 %\n",
            "Epoch: 109 \tTraining Loss: 0.041688 \tValidation Loss: 0.158838\n",
            "Validation loss decreased (0.159176 --> 0.158838).  Saving model ...\n"
          ]
        },
        {
          "metadata": {
            "tags": null
          },
          "name": "stderr",
          "output_type": "stream",
          "text": [
            "\r 55%|█████▌    | 110/200 [1:50:22<1:30:26, 60.29s/it]"
          ]
        },
        {
          "metadata": {
            "tags": null
          },
          "name": "stdout",
          "output_type": "stream",
          "text": [
            "Accuracy: 94.26424050632912 %\n",
            "Epoch: 110 \tTraining Loss: 0.043936 \tValidation Loss: 0.160613\n"
          ]
        },
        {
          "metadata": {
            "tags": null
          },
          "name": "stderr",
          "output_type": "stream",
          "text": [
            "\r 56%|█████▌    | 111/200 [1:51:22<1:29:21, 60.24s/it]"
          ]
        },
        {
          "metadata": {
            "tags": null
          },
          "name": "stdout",
          "output_type": "stream",
          "text": [
            "Accuracy: 94.3631329113924 %\n",
            "Epoch: 111 \tTraining Loss: 0.043104 \tValidation Loss: 0.161838\n"
          ]
        },
        {
          "metadata": {
            "tags": null
          },
          "name": "stderr",
          "output_type": "stream",
          "text": [
            "\r 56%|█████▌    | 112/200 [1:52:22<1:28:12, 60.14s/it]"
          ]
        },
        {
          "metadata": {
            "tags": null
          },
          "name": "stdout",
          "output_type": "stream",
          "text": [
            "Accuracy: 94.42246835443038 %\n",
            "Epoch: 112 \tTraining Loss: 0.040739 \tValidation Loss: 0.158967\n"
          ]
        },
        {
          "metadata": {
            "tags": null
          },
          "name": "stderr",
          "output_type": "stream",
          "text": [
            "\r 56%|█████▋    | 113/200 [1:53:23<1:27:16, 60.19s/it]"
          ]
        },
        {
          "metadata": {
            "tags": null
          },
          "name": "stdout",
          "output_type": "stream",
          "text": [
            "Accuracy: 94.28401898734177 %\n",
            "Epoch: 113 \tTraining Loss: 0.041454 \tValidation Loss: 0.161452\n"
          ]
        },
        {
          "metadata": {
            "tags": null
          },
          "name": "stderr",
          "output_type": "stream",
          "text": [
            "\r 57%|█████▋    | 114/200 [1:54:23<1:26:14, 60.17s/it]"
          ]
        },
        {
          "metadata": {
            "tags": null
          },
          "name": "stdout",
          "output_type": "stream",
          "text": [
            "Accuracy: 94.38291139240506 %\n",
            "Epoch: 114 \tTraining Loss: 0.040408 \tValidation Loss: 0.160958\n"
          ]
        },
        {
          "metadata": {
            "tags": null
          },
          "name": "stderr",
          "output_type": "stream",
          "text": [
            "\r 57%|█████▊    | 115/200 [1:55:23<1:25:17, 60.20s/it]"
          ]
        },
        {
          "metadata": {
            "tags": null
          },
          "name": "stdout",
          "output_type": "stream",
          "text": [
            "Accuracy: 94.20490506329114 %\n",
            "Epoch: 115 \tTraining Loss: 0.043343 \tValidation Loss: 0.159030\n"
          ]
        },
        {
          "metadata": {
            "tags": null
          },
          "name": "stderr",
          "output_type": "stream",
          "text": [
            "\r 58%|█████▊    | 116/200 [1:56:23<1:24:21, 60.25s/it]"
          ]
        },
        {
          "metadata": {
            "tags": null
          },
          "name": "stdout",
          "output_type": "stream",
          "text": [
            "Accuracy: 94.14556962025317 %\n",
            "Epoch: 116 \tTraining Loss: 0.041010 \tValidation Loss: 0.163388\n"
          ]
        },
        {
          "metadata": {
            "tags": null
          },
          "name": "stderr",
          "output_type": "stream",
          "text": [
            "\r 58%|█████▊    | 117/200 [1:57:25<1:23:44, 60.54s/it]"
          ]
        },
        {
          "metadata": {
            "tags": null
          },
          "name": "stdout",
          "output_type": "stream",
          "text": [
            "Accuracy: 94.32357594936708 %\n",
            "Epoch: 117 \tTraining Loss: 0.038280 \tValidation Loss: 0.164357\n"
          ]
        },
        {
          "metadata": {
            "tags": null
          },
          "name": "stderr",
          "output_type": "stream",
          "text": [
            "\r 59%|█████▉    | 118/200 [1:58:26<1:22:54, 60.67s/it]"
          ]
        },
        {
          "metadata": {
            "tags": null
          },
          "name": "stdout",
          "output_type": "stream",
          "text": [
            "Accuracy: 94.39280063291139 %\n",
            "Epoch: 118 \tTraining Loss: 0.039690 \tValidation Loss: 0.156682\n",
            "Validation loss decreased (0.158838 --> 0.156682).  Saving model ...\n"
          ]
        },
        {
          "metadata": {
            "tags": null
          },
          "name": "stderr",
          "output_type": "stream",
          "text": [
            "\r 60%|█████▉    | 119/200 [1:59:26<1:21:40, 60.50s/it]"
          ]
        },
        {
          "metadata": {
            "tags": null
          },
          "name": "stdout",
          "output_type": "stream",
          "text": [
            "Accuracy: 94.51147151898734 %\n",
            "Epoch: 119 \tTraining Loss: 0.038803 \tValidation Loss: 0.157086\n"
          ]
        },
        {
          "metadata": {
            "tags": null
          },
          "name": "stderr",
          "output_type": "stream",
          "text": [
            "\r 60%|██████    | 120/200 [2:00:27<1:20:53, 60.66s/it]"
          ]
        },
        {
          "metadata": {
            "tags": null
          },
          "name": "stdout",
          "output_type": "stream",
          "text": [
            "Accuracy: 94.28401898734177 %\n",
            "Epoch: 120 \tTraining Loss: 0.040926 \tValidation Loss: 0.159666\n"
          ]
        },
        {
          "metadata": {
            "tags": null
          },
          "name": "stderr",
          "output_type": "stream",
          "text": [
            "\r 60%|██████    | 121/200 [2:01:27<1:19:52, 60.66s/it]"
          ]
        },
        {
          "metadata": {
            "tags": null
          },
          "name": "stdout",
          "output_type": "stream",
          "text": [
            "Accuracy: 94.48180379746836 %\n",
            "Epoch: 121 \tTraining Loss: 0.039856 \tValidation Loss: 0.156620\n",
            "Validation loss decreased (0.156682 --> 0.156620).  Saving model ...\n"
          ]
        },
        {
          "metadata": {
            "tags": null
          },
          "name": "stderr",
          "output_type": "stream",
          "text": [
            "\r 61%|██████    | 122/200 [2:02:28<1:18:56, 60.72s/it]"
          ]
        },
        {
          "metadata": {
            "tags": null
          },
          "name": "stdout",
          "output_type": "stream",
          "text": [
            "Accuracy: 94.45213607594937 %\n",
            "Epoch: 122 \tTraining Loss: 0.043413 \tValidation Loss: 0.157927\n"
          ]
        },
        {
          "metadata": {
            "tags": null
          },
          "name": "stderr",
          "output_type": "stream",
          "text": [
            "\r 62%|██████▏   | 123/200 [2:03:29<1:18:00, 60.78s/it]"
          ]
        },
        {
          "metadata": {
            "tags": null
          },
          "name": "stdout",
          "output_type": "stream",
          "text": [
            "Accuracy: 94.42246835443038 %\n",
            "Epoch: 123 \tTraining Loss: 0.040461 \tValidation Loss: 0.158005\n"
          ]
        },
        {
          "metadata": {
            "tags": null
          },
          "name": "stderr",
          "output_type": "stream",
          "text": [
            "\r 62%|██████▏   | 124/200 [2:04:30<1:16:56, 60.75s/it]"
          ]
        },
        {
          "metadata": {
            "tags": null
          },
          "name": "stdout",
          "output_type": "stream",
          "text": [
            "Accuracy: 94.4323575949367 %\n",
            "Epoch: 124 \tTraining Loss: 0.041262 \tValidation Loss: 0.158136\n"
          ]
        },
        {
          "metadata": {
            "tags": null
          },
          "name": "stderr",
          "output_type": "stream",
          "text": [
            "\r 62%|██████▎   | 125/200 [2:05:31<1:15:54, 60.73s/it]"
          ]
        },
        {
          "metadata": {
            "tags": null
          },
          "name": "stdout",
          "output_type": "stream",
          "text": [
            "Accuracy: 94.37302215189874 %\n",
            "Epoch: 125 \tTraining Loss: 0.039649 \tValidation Loss: 0.159076\n"
          ]
        },
        {
          "metadata": {
            "tags": null
          },
          "name": "stderr",
          "output_type": "stream",
          "text": [
            "\r 63%|██████▎   | 126/200 [2:06:31<1:14:57, 60.77s/it]"
          ]
        },
        {
          "metadata": {
            "tags": null
          },
          "name": "stdout",
          "output_type": "stream",
          "text": [
            "Accuracy: 94.33346518987342 %\n",
            "Epoch: 126 \tTraining Loss: 0.036077 \tValidation Loss: 0.160176\n"
          ]
        },
        {
          "metadata": {
            "tags": null
          },
          "name": "stderr",
          "output_type": "stream",
          "text": [
            "\r 64%|██████▎   | 127/200 [2:07:31<1:13:38, 60.53s/it]"
          ]
        },
        {
          "metadata": {
            "tags": null
          },
          "name": "stdout",
          "output_type": "stream",
          "text": [
            "Accuracy: 94.37302215189874 %\n",
            "Epoch: 127 \tTraining Loss: 0.039040 \tValidation Loss: 0.161547\n"
          ]
        },
        {
          "metadata": {
            "tags": null
          },
          "name": "stderr",
          "output_type": "stream",
          "text": [
            "\r 64%|██████▍   | 128/200 [2:08:32<1:12:43, 60.61s/it]"
          ]
        },
        {
          "metadata": {
            "tags": null
          },
          "name": "stdout",
          "output_type": "stream",
          "text": [
            "Accuracy: 94.47191455696202 %\n",
            "Epoch: 128 \tTraining Loss: 0.040244 \tValidation Loss: 0.158770\n"
          ]
        },
        {
          "metadata": {
            "tags": null
          },
          "name": "stderr",
          "output_type": "stream",
          "text": [
            "\r 64%|██████▍   | 129/200 [2:09:33<1:11:46, 60.65s/it]"
          ]
        },
        {
          "metadata": {
            "tags": null
          },
          "name": "stdout",
          "output_type": "stream",
          "text": [
            "Accuracy: 94.52136075949367 %\n",
            "Epoch: 129 \tTraining Loss: 0.038470 \tValidation Loss: 0.160994\n"
          ]
        },
        {
          "metadata": {
            "tags": null
          },
          "name": "stderr",
          "output_type": "stream",
          "text": [
            "\r 65%|██████▌   | 130/200 [2:10:34<1:10:51, 60.74s/it]"
          ]
        },
        {
          "metadata": {
            "tags": null
          },
          "name": "stdout",
          "output_type": "stream",
          "text": [
            "Accuracy: 94.18512658227849 %\n",
            "Epoch: 130 \tTraining Loss: 0.038041 \tValidation Loss: 0.159571\n"
          ]
        },
        {
          "metadata": {
            "tags": null
          },
          "name": "stderr",
          "output_type": "stream",
          "text": [
            "\r 66%|██████▌   | 131/200 [2:11:34<1:09:44, 60.64s/it]"
          ]
        },
        {
          "metadata": {
            "tags": null
          },
          "name": "stdout",
          "output_type": "stream",
          "text": [
            "Accuracy: 94.17523734177215 %\n",
            "Epoch: 131 \tTraining Loss: 0.038836 \tValidation Loss: 0.164076\n"
          ]
        },
        {
          "metadata": {
            "tags": null
          },
          "name": "stderr",
          "output_type": "stream",
          "text": [
            "\r 66%|██████▌   | 132/200 [2:12:35<1:08:44, 60.66s/it]"
          ]
        },
        {
          "metadata": {
            "tags": null
          },
          "name": "stdout",
          "output_type": "stream",
          "text": [
            "Accuracy: 94.48180379746836 %\n",
            "Epoch: 132 \tTraining Loss: 0.034917 \tValidation Loss: 0.158730\n"
          ]
        },
        {
          "metadata": {
            "tags": null
          },
          "name": "stderr",
          "output_type": "stream",
          "text": [
            "\r 66%|██████▋   | 133/200 [2:13:36<1:07:48, 60.73s/it]"
          ]
        },
        {
          "metadata": {
            "tags": null
          },
          "name": "stdout",
          "output_type": "stream",
          "text": [
            "Accuracy: 94.49169303797468 %\n",
            "Epoch: 133 \tTraining Loss: 0.032066 \tValidation Loss: 0.158287\n"
          ]
        },
        {
          "metadata": {
            "tags": null
          },
          "name": "stderr",
          "output_type": "stream",
          "text": [
            "\r 67%|██████▋   | 134/200 [2:14:36<1:06:43, 60.66s/it]"
          ]
        },
        {
          "metadata": {
            "tags": null
          },
          "name": "stdout",
          "output_type": "stream",
          "text": [
            "Accuracy: 94.49169303797468 %\n",
            "Epoch: 134 \tTraining Loss: 0.033041 \tValidation Loss: 0.156555\n",
            "Validation loss decreased (0.156620 --> 0.156555).  Saving model ...\n"
          ]
        },
        {
          "metadata": {
            "tags": null
          },
          "name": "stderr",
          "output_type": "stream",
          "text": [
            "\r 68%|██████▊   | 135/200 [2:15:37<1:05:46, 60.71s/it]"
          ]
        },
        {
          "metadata": {
            "tags": null
          },
          "name": "stdout",
          "output_type": "stream",
          "text": [
            "Accuracy: 94.55102848101266 %\n",
            "Epoch: 135 \tTraining Loss: 0.031759 \tValidation Loss: 0.156489\n",
            "Validation loss decreased (0.156555 --> 0.156489).  Saving model ...\n"
          ]
        },
        {
          "metadata": {
            "tags": null
          },
          "name": "stderr",
          "output_type": "stream",
          "text": [
            "\r 68%|██████▊   | 136/200 [2:16:39<1:04:58, 60.92s/it]"
          ]
        },
        {
          "metadata": {
            "tags": null
          },
          "name": "stdout",
          "output_type": "stream",
          "text": [
            "Accuracy: 94.55102848101266 %\n",
            "Epoch: 136 \tTraining Loss: 0.031598 \tValidation Loss: 0.154739\n",
            "Validation loss decreased (0.156489 --> 0.154739).  Saving model ...\n"
          ]
        },
        {
          "metadata": {
            "tags": null
          },
          "name": "stderr",
          "output_type": "stream",
          "text": [
            "\r 68%|██████▊   | 137/200 [2:17:39<1:03:47, 60.75s/it]"
          ]
        },
        {
          "metadata": {
            "tags": null
          },
          "name": "stdout",
          "output_type": "stream",
          "text": [
            "Accuracy: 94.49169303797468 %\n",
            "Epoch: 137 \tTraining Loss: 0.033155 \tValidation Loss: 0.158976\n"
          ]
        },
        {
          "metadata": {
            "tags": null
          },
          "name": "stderr",
          "output_type": "stream",
          "text": [
            "\r 69%|██████▉   | 138/200 [2:18:39<1:02:39, 60.64s/it]"
          ]
        },
        {
          "metadata": {
            "tags": null
          },
          "name": "stdout",
          "output_type": "stream",
          "text": [
            "Accuracy: 94.51147151898734 %\n",
            "Epoch: 138 \tTraining Loss: 0.033211 \tValidation Loss: 0.157144\n"
          ]
        },
        {
          "metadata": {
            "tags": null
          },
          "name": "stderr",
          "output_type": "stream",
          "text": [
            "\r 70%|██████▉   | 139/200 [2:19:40<1:01:37, 60.62s/it]"
          ]
        },
        {
          "metadata": {
            "tags": null
          },
          "name": "stdout",
          "output_type": "stream",
          "text": [
            "Accuracy: 94.51147151898734 %\n",
            "Epoch: 139 \tTraining Loss: 0.031831 \tValidation Loss: 0.157643\n"
          ]
        },
        {
          "metadata": {
            "tags": null
          },
          "name": "stderr",
          "output_type": "stream",
          "text": [
            "\r 70%|███████   | 140/200 [2:20:41<1:00:39, 60.65s/it]"
          ]
        },
        {
          "metadata": {
            "tags": null
          },
          "name": "stdout",
          "output_type": "stream",
          "text": [
            "Accuracy: 94.59058544303798 %\n",
            "Epoch: 140 \tTraining Loss: 0.030830 \tValidation Loss: 0.156942\n"
          ]
        },
        {
          "metadata": {
            "tags": null
          },
          "name": "stderr",
          "output_type": "stream",
          "text": [
            "\r 70%|███████   | 141/200 [2:21:40<59:20, 60.34s/it]  "
          ]
        },
        {
          "metadata": {
            "tags": null
          },
          "name": "stdout",
          "output_type": "stream",
          "text": [
            "Accuracy: 94.59058544303798 %\n",
            "Epoch: 141 \tTraining Loss: 0.029078 \tValidation Loss: 0.155588\n"
          ]
        },
        {
          "metadata": {
            "tags": null
          },
          "name": "stderr",
          "output_type": "stream",
          "text": [
            "\r 71%|███████   | 142/200 [2:22:40<58:17, 60.31s/it]"
          ]
        },
        {
          "metadata": {
            "tags": null
          },
          "name": "stdout",
          "output_type": "stream",
          "text": [
            "Accuracy: 94.64992088607595 %\n",
            "Epoch: 142 \tTraining Loss: 0.031765 \tValidation Loss: 0.155582\n"
          ]
        },
        {
          "metadata": {
            "tags": null
          },
          "name": "stderr",
          "output_type": "stream",
          "text": [
            "\r 72%|███████▏  | 143/200 [2:23:41<57:27, 60.49s/it]"
          ]
        },
        {
          "metadata": {
            "tags": null
          },
          "name": "stdout",
          "output_type": "stream",
          "text": [
            "Accuracy: 94.45213607594937 %\n",
            "Epoch: 143 \tTraining Loss: 0.030679 \tValidation Loss: 0.159204\n"
          ]
        },
        {
          "metadata": {
            "tags": null
          },
          "name": "stderr",
          "output_type": "stream",
          "text": [
            "\r 72%|███████▏  | 144/200 [2:24:41<56:10, 60.18s/it]"
          ]
        },
        {
          "metadata": {
            "tags": null
          },
          "name": "stdout",
          "output_type": "stream",
          "text": [
            "Accuracy: 94.47191455696202 %\n",
            "Epoch: 144 \tTraining Loss: 0.031485 \tValidation Loss: 0.159672\n"
          ]
        },
        {
          "metadata": {
            "tags": null
          },
          "name": "stderr",
          "output_type": "stream",
          "text": [
            "\r 72%|███████▎  | 145/200 [2:25:41<55:11, 60.21s/it]"
          ]
        },
        {
          "metadata": {
            "tags": null
          },
          "name": "stdout",
          "output_type": "stream",
          "text": [
            "Accuracy: 94.49169303797468 %\n",
            "Epoch: 145 \tTraining Loss: 0.028738 \tValidation Loss: 0.159452\n"
          ]
        },
        {
          "metadata": {
            "tags": null
          },
          "name": "stderr",
          "output_type": "stream",
          "text": [
            "\r 73%|███████▎  | 146/200 [2:26:42<54:19, 60.36s/it]"
          ]
        },
        {
          "metadata": {
            "tags": null
          },
          "name": "stdout",
          "output_type": "stream",
          "text": [
            "Accuracy: 94.50158227848101 %\n",
            "Epoch: 146 \tTraining Loss: 0.029068 \tValidation Loss: 0.158965\n"
          ]
        },
        {
          "metadata": {
            "tags": null
          },
          "name": "stderr",
          "output_type": "stream",
          "text": [
            "\r 74%|███████▎  | 147/200 [2:27:42<53:13, 60.25s/it]"
          ]
        },
        {
          "metadata": {
            "tags": null
          },
          "name": "stdout",
          "output_type": "stream",
          "text": [
            "Accuracy: 94.59058544303798 %\n",
            "Epoch: 147 \tTraining Loss: 0.027842 \tValidation Loss: 0.158705\n"
          ]
        },
        {
          "metadata": {
            "tags": null
          },
          "name": "stderr",
          "output_type": "stream",
          "text": [
            "\r 74%|███████▍  | 148/200 [2:28:42<52:04, 60.09s/it]"
          ]
        },
        {
          "metadata": {
            "tags": null
          },
          "name": "stdout",
          "output_type": "stream",
          "text": [
            "Accuracy: 94.50158227848101 %\n",
            "Epoch: 148 \tTraining Loss: 0.027430 \tValidation Loss: 0.159750\n"
          ]
        },
        {
          "metadata": {
            "tags": null
          },
          "name": "stderr",
          "output_type": "stream",
          "text": [
            "\r 74%|███████▍  | 149/200 [2:29:41<51:01, 60.03s/it]"
          ]
        },
        {
          "metadata": {
            "tags": null
          },
          "name": "stdout",
          "output_type": "stream",
          "text": [
            "Accuracy: 94.49169303797468 %\n",
            "Epoch: 149 \tTraining Loss: 0.028432 \tValidation Loss: 0.159286\n"
          ]
        },
        {
          "metadata": {
            "tags": null
          },
          "name": "stderr",
          "output_type": "stream",
          "text": [
            "\r 75%|███████▌  | 150/200 [2:30:42<50:03, 60.08s/it]"
          ]
        },
        {
          "metadata": {
            "tags": null
          },
          "name": "stdout",
          "output_type": "stream",
          "text": [
            "Accuracy: 94.50158227848101 %\n",
            "Epoch: 150 \tTraining Loss: 0.026523 \tValidation Loss: 0.157924\n"
          ]
        },
        {
          "metadata": {
            "tags": null
          },
          "name": "stderr",
          "output_type": "stream",
          "text": [
            "\r 76%|███████▌  | 151/200 [2:31:41<48:54, 59.88s/it]"
          ]
        },
        {
          "metadata": {
            "tags": null
          },
          "name": "stdout",
          "output_type": "stream",
          "text": [
            "Accuracy: 94.49169303797468 %\n",
            "Epoch: 151 \tTraining Loss: 0.027622 \tValidation Loss: 0.157868\n"
          ]
        },
        {
          "metadata": {
            "tags": null
          },
          "name": "stderr",
          "output_type": "stream",
          "text": [
            "\r 76%|███████▌  | 152/200 [2:32:41<47:56, 59.92s/it]"
          ]
        },
        {
          "metadata": {
            "tags": null
          },
          "name": "stdout",
          "output_type": "stream",
          "text": [
            "Accuracy: 94.47191455696202 %\n",
            "Epoch: 152 \tTraining Loss: 0.025320 \tValidation Loss: 0.158690\n"
          ]
        },
        {
          "metadata": {
            "tags": null
          },
          "name": "stderr",
          "output_type": "stream",
          "text": [
            "\r 76%|███████▋  | 153/200 [2:33:42<47:06, 60.14s/it]"
          ]
        },
        {
          "metadata": {
            "tags": null
          },
          "name": "stdout",
          "output_type": "stream",
          "text": [
            "Accuracy: 94.51147151898734 %\n",
            "Epoch: 153 \tTraining Loss: 0.026986 \tValidation Loss: 0.156749\n"
          ]
        },
        {
          "metadata": {
            "tags": null
          },
          "name": "stderr",
          "output_type": "stream",
          "text": [
            "\r 77%|███████▋  | 154/200 [2:34:41<45:55, 59.91s/it]"
          ]
        },
        {
          "metadata": {
            "tags": null
          },
          "name": "stdout",
          "output_type": "stream",
          "text": [
            "Accuracy: 94.4620253164557 %\n",
            "Epoch: 154 \tTraining Loss: 0.025950 \tValidation Loss: 0.159885\n"
          ]
        },
        {
          "metadata": {
            "tags": null
          },
          "name": "stderr",
          "output_type": "stream",
          "text": [
            "\r 78%|███████▊  | 155/200 [2:35:41<44:53, 59.86s/it]"
          ]
        },
        {
          "metadata": {
            "tags": null
          },
          "name": "stdout",
          "output_type": "stream",
          "text": [
            "Accuracy: 94.59058544303798 %\n",
            "Epoch: 155 \tTraining Loss: 0.027382 \tValidation Loss: 0.156005\n"
          ]
        },
        {
          "metadata": {
            "tags": null
          },
          "name": "stderr",
          "output_type": "stream",
          "text": [
            "\r 78%|███████▊  | 156/200 [2:36:41<44:04, 60.10s/it]"
          ]
        },
        {
          "metadata": {
            "tags": null
          },
          "name": "stdout",
          "output_type": "stream",
          "text": [
            "Accuracy: 94.47191455696202 %\n",
            "Epoch: 156 \tTraining Loss: 0.025756 \tValidation Loss: 0.157442\n"
          ]
        },
        {
          "metadata": {
            "tags": null
          },
          "name": "stderr",
          "output_type": "stream",
          "text": [
            "\r 78%|███████▊  | 157/200 [2:37:41<42:57, 59.94s/it]"
          ]
        },
        {
          "metadata": {
            "tags": null
          },
          "name": "stdout",
          "output_type": "stream",
          "text": [
            "Accuracy: 94.52136075949367 %\n",
            "Epoch: 157 \tTraining Loss: 0.026759 \tValidation Loss: 0.154978\n"
          ]
        },
        {
          "metadata": {
            "tags": null
          },
          "name": "stderr",
          "output_type": "stream",
          "text": [
            "\r 79%|███████▉  | 158/200 [2:38:41<41:54, 59.86s/it]"
          ]
        },
        {
          "metadata": {
            "tags": null
          },
          "name": "stdout",
          "output_type": "stream",
          "text": [
            "Accuracy: 94.47191455696202 %\n",
            "Epoch: 158 \tTraining Loss: 0.027065 \tValidation Loss: 0.155012\n"
          ]
        },
        {
          "metadata": {
            "tags": null
          },
          "name": "stderr",
          "output_type": "stream",
          "text": [
            "\r 80%|███████▉  | 159/200 [2:39:41<40:53, 59.85s/it]"
          ]
        },
        {
          "metadata": {
            "tags": null
          },
          "name": "stdout",
          "output_type": "stream",
          "text": [
            "Accuracy: 94.55102848101266 %\n",
            "Epoch: 159 \tTraining Loss: 0.025117 \tValidation Loss: 0.155514\n"
          ]
        },
        {
          "metadata": {
            "tags": null
          },
          "name": "stderr",
          "output_type": "stream",
          "text": [
            "\r 80%|████████  | 160/200 [2:40:40<39:49, 59.73s/it]"
          ]
        },
        {
          "metadata": {
            "tags": null
          },
          "name": "stdout",
          "output_type": "stream",
          "text": [
            "Accuracy: 94.61036392405063 %\n",
            "Epoch: 160 \tTraining Loss: 0.025409 \tValidation Loss: 0.156155\n"
          ]
        },
        {
          "metadata": {
            "tags": null
          },
          "name": "stderr",
          "output_type": "stream",
          "text": [
            "\r 80%|████████  | 161/200 [2:41:40<38:50, 59.77s/it]"
          ]
        },
        {
          "metadata": {
            "tags": null
          },
          "name": "stdout",
          "output_type": "stream",
          "text": [
            "Accuracy: 94.56091772151899 %\n",
            "Epoch: 161 \tTraining Loss: 0.025385 \tValidation Loss: 0.156569\n"
          ]
        },
        {
          "metadata": {
            "tags": null
          },
          "name": "stderr",
          "output_type": "stream",
          "text": [
            "\r 81%|████████  | 162/200 [2:42:39<37:49, 59.73s/it]"
          ]
        },
        {
          "metadata": {
            "tags": null
          },
          "name": "stdout",
          "output_type": "stream",
          "text": [
            "Accuracy: 94.54113924050633 %\n",
            "Epoch: 162 \tTraining Loss: 0.026076 \tValidation Loss: 0.158186\n"
          ]
        },
        {
          "metadata": {
            "tags": null
          },
          "name": "stderr",
          "output_type": "stream",
          "text": [
            "\r 82%|████████▏ | 163/200 [2:43:39<36:52, 59.81s/it]"
          ]
        },
        {
          "metadata": {
            "tags": null
          },
          "name": "stdout",
          "output_type": "stream",
          "text": [
            "Accuracy: 94.57080696202532 %\n",
            "Epoch: 163 \tTraining Loss: 0.024025 \tValidation Loss: 0.161105\n"
          ]
        },
        {
          "metadata": {
            "tags": null
          },
          "name": "stderr",
          "output_type": "stream",
          "text": [
            "\r 82%|████████▏ | 164/200 [2:44:39<35:51, 59.77s/it]"
          ]
        },
        {
          "metadata": {
            "tags": null
          },
          "name": "stdout",
          "output_type": "stream",
          "text": [
            "Accuracy: 94.58069620253164 %\n",
            "Epoch: 164 \tTraining Loss: 0.025548 \tValidation Loss: 0.158360\n"
          ]
        },
        {
          "metadata": {
            "tags": null
          },
          "name": "stderr",
          "output_type": "stream",
          "text": [
            "\r 82%|████████▎ | 165/200 [2:45:39<34:51, 59.76s/it]"
          ]
        },
        {
          "metadata": {
            "tags": null
          },
          "name": "stdout",
          "output_type": "stream",
          "text": [
            "Accuracy: 94.57080696202532 %\n",
            "Epoch: 165 \tTraining Loss: 0.023368 \tValidation Loss: 0.158204\n"
          ]
        },
        {
          "metadata": {
            "tags": null
          },
          "name": "stderr",
          "output_type": "stream",
          "text": [
            "\r 83%|████████▎ | 166/200 [2:46:38<33:44, 59.55s/it]"
          ]
        },
        {
          "metadata": {
            "tags": null
          },
          "name": "stdout",
          "output_type": "stream",
          "text": [
            "Accuracy: 94.52136075949367 %\n",
            "Epoch: 166 \tTraining Loss: 0.025264 \tValidation Loss: 0.158345\n"
          ]
        },
        {
          "metadata": {
            "tags": null
          },
          "name": "stderr",
          "output_type": "stream",
          "text": [
            "\r 84%|████████▎ | 167/200 [2:47:38<32:51, 59.76s/it]"
          ]
        },
        {
          "metadata": {
            "tags": null
          },
          "name": "stdout",
          "output_type": "stream",
          "text": [
            "Accuracy: 94.53125 %\n",
            "Epoch: 167 \tTraining Loss: 0.025590 \tValidation Loss: 0.157496\n"
          ]
        },
        {
          "metadata": {
            "tags": null
          },
          "name": "stderr",
          "output_type": "stream",
          "text": [
            "\r 84%|████████▍ | 168/200 [2:48:38<31:55, 59.87s/it]"
          ]
        },
        {
          "metadata": {
            "tags": null
          },
          "name": "stdout",
          "output_type": "stream",
          "text": [
            "Accuracy: 94.57080696202532 %\n",
            "Epoch: 168 \tTraining Loss: 0.024465 \tValidation Loss: 0.157991\n"
          ]
        },
        {
          "metadata": {
            "tags": null
          },
          "name": "stderr",
          "output_type": "stream",
          "text": [
            "\r 84%|████████▍ | 169/200 [2:49:38<30:54, 59.83s/it]"
          ]
        },
        {
          "metadata": {
            "tags": null
          },
          "name": "stdout",
          "output_type": "stream",
          "text": [
            "Accuracy: 94.62025316455696 %\n",
            "Epoch: 169 \tTraining Loss: 0.024509 \tValidation Loss: 0.157708\n"
          ]
        },
        {
          "metadata": {
            "tags": null
          },
          "name": "stderr",
          "output_type": "stream",
          "text": [
            "\r 85%|████████▌ | 170/200 [2:50:39<30:01, 60.06s/it]"
          ]
        },
        {
          "metadata": {
            "tags": null
          },
          "name": "stdout",
          "output_type": "stream",
          "text": [
            "Accuracy: 94.59058544303798 %\n",
            "Epoch: 170 \tTraining Loss: 0.025619 \tValidation Loss: 0.157447\n"
          ]
        },
        {
          "metadata": {
            "tags": null
          },
          "name": "stderr",
          "output_type": "stream",
          "text": [
            "\r 86%|████████▌ | 171/200 [2:51:39<29:02, 60.09s/it]"
          ]
        },
        {
          "metadata": {
            "tags": null
          },
          "name": "stdout",
          "output_type": "stream",
          "text": [
            "Accuracy: 94.53125 %\n",
            "Epoch: 171 \tTraining Loss: 0.024050 \tValidation Loss: 0.157053\n"
          ]
        },
        {
          "metadata": {
            "tags": null
          },
          "name": "stderr",
          "output_type": "stream",
          "text": [
            "\r 86%|████████▌ | 172/200 [2:52:39<28:03, 60.13s/it]"
          ]
        },
        {
          "metadata": {
            "tags": null
          },
          "name": "stdout",
          "output_type": "stream",
          "text": [
            "Accuracy: 94.49169303797468 %\n",
            "Epoch: 172 \tTraining Loss: 0.024569 \tValidation Loss: 0.157300\n"
          ]
        },
        {
          "metadata": {
            "tags": null
          },
          "name": "stderr",
          "output_type": "stream",
          "text": [
            "\r 86%|████████▋ | 173/200 [2:53:40<27:06, 60.23s/it]"
          ]
        },
        {
          "metadata": {
            "tags": null
          },
          "name": "stdout",
          "output_type": "stream",
          "text": [
            "Accuracy: 94.49169303797468 %\n",
            "Epoch: 173 \tTraining Loss: 0.024825 \tValidation Loss: 0.158060\n"
          ]
        },
        {
          "metadata": {
            "tags": null
          },
          "name": "stderr",
          "output_type": "stream",
          "text": [
            "\r 87%|████████▋ | 174/200 [2:54:40<26:05, 60.20s/it]"
          ]
        },
        {
          "metadata": {
            "tags": null
          },
          "name": "stdout",
          "output_type": "stream",
          "text": [
            "Accuracy: 94.52136075949367 %\n",
            "Epoch: 174 \tTraining Loss: 0.025537 \tValidation Loss: 0.158952\n"
          ]
        },
        {
          "metadata": {
            "tags": null
          },
          "name": "stderr",
          "output_type": "stream",
          "text": [
            "\r 88%|████████▊ | 175/200 [2:55:40<25:04, 60.19s/it]"
          ]
        },
        {
          "metadata": {
            "tags": null
          },
          "name": "stdout",
          "output_type": "stream",
          "text": [
            "Accuracy: 94.52136075949367 %\n",
            "Epoch: 175 \tTraining Loss: 0.025646 \tValidation Loss: 0.157977\n"
          ]
        },
        {
          "metadata": {
            "tags": null
          },
          "name": "stderr",
          "output_type": "stream",
          "text": [
            "\r 88%|████████▊ | 176/200 [2:56:39<24:00, 60.03s/it]"
          ]
        },
        {
          "metadata": {
            "tags": null
          },
          "name": "stdout",
          "output_type": "stream",
          "text": [
            "Accuracy: 94.56091772151899 %\n",
            "Epoch: 176 \tTraining Loss: 0.025868 \tValidation Loss: 0.156575\n"
          ]
        },
        {
          "metadata": {
            "tags": null
          },
          "name": "stderr",
          "output_type": "stream",
          "text": [
            "\r 88%|████████▊ | 177/200 [2:57:40<23:02, 60.10s/it]"
          ]
        },
        {
          "metadata": {
            "tags": null
          },
          "name": "stdout",
          "output_type": "stream",
          "text": [
            "Accuracy: 94.55102848101266 %\n",
            "Epoch: 177 \tTraining Loss: 0.024502 \tValidation Loss: 0.157392\n"
          ]
        },
        {
          "metadata": {
            "tags": null
          },
          "name": "stderr",
          "output_type": "stream",
          "text": [
            "\r 89%|████████▉ | 178/200 [2:58:40<22:02, 60.13s/it]"
          ]
        },
        {
          "metadata": {
            "tags": null
          },
          "name": "stdout",
          "output_type": "stream",
          "text": [
            "Accuracy: 94.53125 %\n",
            "Epoch: 178 \tTraining Loss: 0.022849 \tValidation Loss: 0.158021\n"
          ]
        },
        {
          "metadata": {
            "tags": null
          },
          "name": "stderr",
          "output_type": "stream",
          "text": [
            "\r 90%|████████▉ | 179/200 [2:59:40<20:59, 60.00s/it]"
          ]
        },
        {
          "metadata": {
            "tags": null
          },
          "name": "stdout",
          "output_type": "stream",
          "text": [
            "Accuracy: 94.55102848101266 %\n",
            "Epoch: 179 \tTraining Loss: 0.023708 \tValidation Loss: 0.156960\n"
          ]
        },
        {
          "metadata": {
            "tags": null
          },
          "name": "stderr",
          "output_type": "stream",
          "text": [
            "\r 90%|█████████ | 180/200 [3:00:40<20:02, 60.14s/it]"
          ]
        },
        {
          "metadata": {
            "tags": null
          },
          "name": "stdout",
          "output_type": "stream",
          "text": [
            "Accuracy: 94.48180379746836 %\n",
            "Epoch: 180 \tTraining Loss: 0.024596 \tValidation Loss: 0.156406\n"
          ]
        },
        {
          "metadata": {
            "tags": null
          },
          "name": "stderr",
          "output_type": "stream",
          "text": [
            "\r 90%|█████████ | 181/200 [3:01:40<19:02, 60.12s/it]"
          ]
        },
        {
          "metadata": {
            "tags": null
          },
          "name": "stdout",
          "output_type": "stream",
          "text": [
            "Accuracy: 94.54113924050633 %\n",
            "Epoch: 181 \tTraining Loss: 0.023733 \tValidation Loss: 0.157088\n"
          ]
        },
        {
          "metadata": {
            "tags": null
          },
          "name": "stderr",
          "output_type": "stream",
          "text": [
            "\r 91%|█████████ | 182/200 [3:02:40<18:02, 60.13s/it]"
          ]
        },
        {
          "metadata": {
            "tags": null
          },
          "name": "stdout",
          "output_type": "stream",
          "text": [
            "Accuracy: 94.42246835443038 %\n",
            "Epoch: 182 \tTraining Loss: 0.024965 \tValidation Loss: 0.158029\n"
          ]
        },
        {
          "metadata": {
            "tags": null
          },
          "name": "stderr",
          "output_type": "stream",
          "text": [
            "\r 92%|█████████▏| 183/200 [3:03:40<17:00, 60.05s/it]"
          ]
        },
        {
          "metadata": {
            "tags": null
          },
          "name": "stdout",
          "output_type": "stream",
          "text": [
            "Accuracy: 94.49169303797468 %\n",
            "Epoch: 183 \tTraining Loss: 0.022676 \tValidation Loss: 0.157068\n"
          ]
        },
        {
          "metadata": {
            "tags": null
          },
          "name": "stderr",
          "output_type": "stream",
          "text": [
            "\r 92%|█████████▏| 184/200 [3:04:41<16:02, 60.17s/it]"
          ]
        },
        {
          "metadata": {
            "tags": null
          },
          "name": "stdout",
          "output_type": "stream",
          "text": [
            "Accuracy: 94.50158227848101 %\n",
            "Epoch: 184 \tTraining Loss: 0.022871 \tValidation Loss: 0.156361\n"
          ]
        },
        {
          "metadata": {
            "tags": null
          },
          "name": "stderr",
          "output_type": "stream",
          "text": [
            "\r 92%|█████████▎| 185/200 [3:05:41<15:02, 60.14s/it]"
          ]
        },
        {
          "metadata": {
            "tags": null
          },
          "name": "stdout",
          "output_type": "stream",
          "text": [
            "Accuracy: 94.47191455696202 %\n",
            "Epoch: 185 \tTraining Loss: 0.023726 \tValidation Loss: 0.157393\n"
          ]
        },
        {
          "metadata": {
            "tags": null
          },
          "name": "stderr",
          "output_type": "stream",
          "text": [
            "\r 93%|█████████▎| 186/200 [3:06:40<14:00, 60.00s/it]"
          ]
        },
        {
          "metadata": {
            "tags": null
          },
          "name": "stdout",
          "output_type": "stream",
          "text": [
            "Accuracy: 94.55102848101266 %\n",
            "Epoch: 186 \tTraining Loss: 0.022825 \tValidation Loss: 0.156954\n"
          ]
        },
        {
          "metadata": {
            "tags": null
          },
          "name": "stderr",
          "output_type": "stream",
          "text": [
            "\r 94%|█████████▎| 187/200 [3:07:41<13:01, 60.13s/it]"
          ]
        },
        {
          "metadata": {
            "tags": null
          },
          "name": "stdout",
          "output_type": "stream",
          "text": [
            "Accuracy: 94.4323575949367 %\n",
            "Epoch: 187 \tTraining Loss: 0.024609 \tValidation Loss: 0.156946\n"
          ]
        },
        {
          "metadata": {
            "tags": null
          },
          "name": "stderr",
          "output_type": "stream",
          "text": [
            "\r 94%|█████████▍| 188/200 [3:08:41<12:01, 60.11s/it]"
          ]
        },
        {
          "metadata": {
            "tags": null
          },
          "name": "stdout",
          "output_type": "stream",
          "text": [
            "Accuracy: 94.51147151898734 %\n",
            "Epoch: 188 \tTraining Loss: 0.023611 \tValidation Loss: 0.158544\n"
          ]
        },
        {
          "metadata": {
            "tags": null
          },
          "name": "stderr",
          "output_type": "stream",
          "text": [
            "\r 94%|█████████▍| 189/200 [3:09:41<11:00, 60.00s/it]"
          ]
        },
        {
          "metadata": {
            "tags": null
          },
          "name": "stdout",
          "output_type": "stream",
          "text": [
            "Accuracy: 94.54113924050633 %\n",
            "Epoch: 189 \tTraining Loss: 0.024464 \tValidation Loss: 0.156758\n"
          ]
        },
        {
          "metadata": {
            "tags": null
          },
          "name": "stderr",
          "output_type": "stream",
          "text": [
            "\r 95%|█████████▌| 190/200 [3:10:41<09:59, 59.99s/it]"
          ]
        },
        {
          "metadata": {
            "tags": null
          },
          "name": "stdout",
          "output_type": "stream",
          "text": [
            "Accuracy: 94.54113924050633 %\n",
            "Epoch: 190 \tTraining Loss: 0.023997 \tValidation Loss: 0.156454\n"
          ]
        },
        {
          "metadata": {
            "tags": null
          },
          "name": "stderr",
          "output_type": "stream",
          "text": [
            "\r 96%|█████████▌| 191/200 [3:11:41<09:02, 60.27s/it]"
          ]
        },
        {
          "metadata": {
            "tags": null
          },
          "name": "stdout",
          "output_type": "stream",
          "text": [
            "Accuracy: 94.49169303797468 %\n",
            "Epoch: 191 \tTraining Loss: 0.023654 \tValidation Loss: 0.157187\n"
          ]
        },
        {
          "metadata": {
            "tags": null
          },
          "name": "stderr",
          "output_type": "stream",
          "text": [
            "\r 96%|█████████▌| 192/200 [3:12:42<08:01, 60.22s/it]"
          ]
        },
        {
          "metadata": {
            "tags": null
          },
          "name": "stdout",
          "output_type": "stream",
          "text": [
            "Accuracy: 94.52136075949367 %\n",
            "Epoch: 192 \tTraining Loss: 0.024495 \tValidation Loss: 0.157957\n"
          ]
        },
        {
          "metadata": {
            "tags": null
          },
          "name": "stderr",
          "output_type": "stream",
          "text": [
            "\r 96%|█████████▋| 193/200 [3:13:41<07:00, 60.10s/it]"
          ]
        },
        {
          "metadata": {
            "tags": null
          },
          "name": "stdout",
          "output_type": "stream",
          "text": [
            "Accuracy: 94.54113924050633 %\n",
            "Epoch: 193 \tTraining Loss: 0.024487 \tValidation Loss: 0.156640\n"
          ]
        },
        {
          "metadata": {
            "tags": null
          },
          "name": "stderr",
          "output_type": "stream",
          "text": [
            "\r 97%|█████████▋| 194/200 [3:14:42<06:01, 60.32s/it]"
          ]
        },
        {
          "metadata": {
            "tags": null
          },
          "name": "stdout",
          "output_type": "stream",
          "text": [
            "Accuracy: 94.57080696202532 %\n",
            "Epoch: 194 \tTraining Loss: 0.023596 \tValidation Loss: 0.156884\n"
          ]
        },
        {
          "metadata": {
            "tags": null
          },
          "name": "stderr",
          "output_type": "stream",
          "text": [
            "\r 98%|█████████▊| 195/200 [3:15:42<05:00, 60.16s/it]"
          ]
        },
        {
          "metadata": {
            "tags": null
          },
          "name": "stdout",
          "output_type": "stream",
          "text": [
            "Accuracy: 94.55102848101266 %\n",
            "Epoch: 195 \tTraining Loss: 0.023620 \tValidation Loss: 0.156652\n"
          ]
        },
        {
          "output_type": "stream",
          "name": "stderr",
          "text": [
            "\r 98%|█████████▊| 196/200 [3:16:42<04:00, 60.11s/it]"
          ]
        },
        {
          "output_type": "stream",
          "name": "stdout",
          "text": [
            "Accuracy: 94.55102848101266 %\n",
            "Epoch: 196 \tTraining Loss: 0.025022 \tValidation Loss: 0.158367\n"
          ]
        },
        {
          "output_type": "stream",
          "name": "stderr",
          "text": [
            "\r 98%|█████████▊| 197/200 [3:17:43<03:00, 60.32s/it]"
          ]
        },
        {
          "output_type": "stream",
          "name": "stdout",
          "text": [
            "Accuracy: 94.55102848101266 %\n",
            "Epoch: 197 \tTraining Loss: 0.022845 \tValidation Loss: 0.156871\n"
          ]
        },
        {
          "output_type": "stream",
          "name": "stderr",
          "text": [
            "\r 99%|█████████▉| 198/200 [3:18:43<02:00, 60.27s/it]"
          ]
        },
        {
          "output_type": "stream",
          "name": "stdout",
          "text": [
            "Accuracy: 94.6004746835443 %\n",
            "Epoch: 198 \tTraining Loss: 0.022635 \tValidation Loss: 0.155614\n"
          ]
        },
        {
          "output_type": "stream",
          "name": "stderr",
          "text": [
            "\r100%|█████████▉| 199/200 [3:19:43<01:00, 60.20s/it]"
          ]
        },
        {
          "output_type": "stream",
          "name": "stdout",
          "text": [
            "Accuracy: 94.61036392405063 %\n",
            "Epoch: 199 \tTraining Loss: 0.025959 \tValidation Loss: 0.157265\n"
          ]
        },
        {
          "output_type": "stream",
          "name": "stderr",
          "text": [
            "100%|██████████| 200/200 [3:20:43<00:00, 60.22s/it]"
          ]
        },
        {
          "output_type": "stream",
          "name": "stdout",
          "text": [
            "Accuracy: 94.53125 %\n",
            "Epoch: 200 \tTraining Loss: 0.023852 \tValidation Loss: 0.156489\n"
          ]
        },
        {
          "output_type": "stream",
          "name": "stderr",
          "text": [
            "\n"
          ]
        }
      ]
    },
    {
      "cell_type": "code",
      "source": [],
      "metadata": {
        "id": "LRvsbzGcgDQk"
      },
      "execution_count": null,
      "outputs": []
    },
    {
      "cell_type": "code",
      "source": [],
      "metadata": {
        "id": "xN89JMq0gDS4"
      },
      "execution_count": null,
      "outputs": []
    },
    {
      "cell_type": "code",
      "source": [],
      "metadata": {
        "id": "2f0kowM6gDWM"
      },
      "execution_count": null,
      "outputs": []
    }
  ]
}